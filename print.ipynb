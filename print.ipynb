{
 "cells": [
  {
   "cell_type": "code",
   "execution_count": 1,
   "metadata": {
    "collapsed": false
   },
   "outputs": [
    {
     "name": "stdout",
     "output_type": "stream",
     "text": [
      "Enter data:python\n",
      "python\n",
      "<type 'str'>\n"
     ]
    }
   ],
   "source": [
    "a=raw_input(\"Enter data:\")\n",
    "print a\n",
    "print type(a)"
   ]
  },
  {
   "cell_type": "code",
   "execution_count": 2,
   "metadata": {
    "collapsed": false
   },
   "outputs": [
    {
     "name": "stdout",
     "output_type": "stream",
     "text": [
      "Enter data:1234\n",
      "1234\n",
      "<type 'str'>\n"
     ]
    }
   ],
   "source": [
    "a=raw_input(\"Enter data:\")\n",
    "print a\n",
    "print type(a)"
   ]
  },
  {
   "cell_type": "code",
   "execution_count": 3,
   "metadata": {
    "collapsed": false
   },
   "outputs": [
    {
     "name": "stdout",
     "output_type": "stream",
     "text": [
      "Enter data:1234\n",
      "1234\n",
      "<type 'int'>\n"
     ]
    }
   ],
   "source": [
    "a=input(\"Enter data:\")\n",
    "print a\n",
    "print type(a)"
   ]
  },
  {
   "cell_type": "code",
   "execution_count": 4,
   "metadata": {
    "collapsed": false
   },
   "outputs": [
    {
     "name": "stdout",
     "output_type": "stream",
     "text": [
      "Enter data:'python'\n",
      "python\n",
      "<type 'str'>\n"
     ]
    }
   ],
   "source": [
    "a=input(\"Enter data:\")\n",
    "print a\n",
    "print type(a)"
   ]
  },
  {
   "cell_type": "code",
   "execution_count": 5,
   "metadata": {
    "collapsed": false
   },
   "outputs": [
    {
     "ename": "NameError",
     "evalue": "name 'z' is not defined",
     "output_type": "error",
     "traceback": [
      "\u001b[1;31m---------------------------------------------------------------------------\u001b[0m",
      "\u001b[1;31mNameError\u001b[0m                                 Traceback (most recent call last)",
      "\u001b[1;32m<ipython-input-5-771f2b45b9f9>\u001b[0m in \u001b[0;36m<module>\u001b[1;34m()\u001b[0m\n\u001b[1;32m----> 1\u001b[1;33m \u001b[1;32mprint\u001b[0m \u001b[0mz\u001b[0m\u001b[1;33m\u001b[0m\u001b[0m\n\u001b[0m",
      "\u001b[1;31mNameError\u001b[0m: name 'z' is not defined"
     ]
    }
   ],
   "source": [
    "print z"
   ]
  },
  {
   "cell_type": "code",
   "execution_count": 6,
   "metadata": {
    "collapsed": false
   },
   "outputs": [
    {
     "name": "stdout",
     "output_type": "stream",
     "text": [
      "Anil 23 23456 5.6\n"
     ]
    }
   ],
   "source": [
    "name = \"Anil\"\n",
    "age = 23\n",
    "sal = 23456\n",
    "height = 5.6\n",
    "print name,age,sal,height"
   ]
  },
  {
   "cell_type": "code",
   "execution_count": 7,
   "metadata": {
    "collapsed": false
   },
   "outputs": [
    {
     "name": "stdout",
     "output_type": "stream",
     "text": [
      "name: Anil age: 23 sal: 23456 height: 5.6\n"
     ]
    }
   ],
   "source": [
    "# name: Anil, age: 23, sal: 23456, height: 5.6\n",
    "print 'name:',name,\"age:\",age,'sal:',sal,\"height:\",height"
   ]
  },
  {
   "cell_type": "code",
   "execution_count": 8,
   "metadata": {
    "collapsed": false
   },
   "outputs": [
    {
     "name": "stdout",
     "output_type": "stream",
     "text": [
      "name: Anil , age: 23 , sal: 23456 , height: 5.6\n"
     ]
    }
   ],
   "source": [
    "# name: Anil, age: 23, sal: 23456, height: 5.6\n",
    "print 'name:',name,\", age:\",age,', sal:',sal,\", height:\",height"
   ]
  },
  {
   "cell_type": "code",
   "execution_count": 9,
   "metadata": {
    "collapsed": false
   },
   "outputs": [
    {
     "name": "stdout",
     "output_type": "stream",
     "text": [
      "str1str2\n"
     ]
    }
   ],
   "source": [
    "print \"str1\"+\"str2\""
   ]
  },
  {
   "cell_type": "code",
   "execution_count": 10,
   "metadata": {
    "collapsed": false
   },
   "outputs": [
    {
     "ename": "TypeError",
     "evalue": "cannot concatenate 'str' and 'int' objects",
     "output_type": "error",
     "traceback": [
      "\u001b[1;31m---------------------------------------------------------------------------\u001b[0m",
      "\u001b[1;31mTypeError\u001b[0m                                 Traceback (most recent call last)",
      "\u001b[1;32m<ipython-input-10-00eb03cf0001>\u001b[0m in \u001b[0;36m<module>\u001b[1;34m()\u001b[0m\n\u001b[0;32m      1\u001b[0m \u001b[1;31m# name: Anil, age: 23, sal: 23456, height: 5.6\u001b[0m\u001b[1;33m\u001b[0m\u001b[1;33m\u001b[0m\u001b[0m\n\u001b[1;32m----> 2\u001b[1;33m \u001b[1;32mprint\u001b[0m \u001b[1;34m'name:'\u001b[0m\u001b[1;33m+\u001b[0m\u001b[0mname\u001b[0m\u001b[1;33m+\u001b[0m\u001b[1;34m\", age:\"\u001b[0m\u001b[1;33m+\u001b[0m\u001b[0mage\u001b[0m\u001b[1;33m+\u001b[0m\u001b[1;34m', sal:'\u001b[0m\u001b[1;33m+\u001b[0m\u001b[0msal\u001b[0m\u001b[1;33m+\u001b[0m\u001b[1;34m\", height:\"\u001b[0m\u001b[1;33m+\u001b[0m\u001b[0mheight\u001b[0m\u001b[1;33m\u001b[0m\u001b[0m\n\u001b[0m",
      "\u001b[1;31mTypeError\u001b[0m: cannot concatenate 'str' and 'int' objects"
     ]
    }
   ],
   "source": [
    "# name: Anil, age: 23, sal: 23456, height: 5.6\n",
    "print 'name:'+name+\", age:\"+age+', sal:'+sal+\", height:\"+height"
   ]
  },
  {
   "cell_type": "code",
   "execution_count": 11,
   "metadata": {
    "collapsed": false
   },
   "outputs": [
    {
     "ename": "TypeError",
     "evalue": "cannot concatenate 'str' and 'int' objects",
     "output_type": "error",
     "traceback": [
      "\u001b[1;31m---------------------------------------------------------------------------\u001b[0m",
      "\u001b[1;31mTypeError\u001b[0m                                 Traceback (most recent call last)",
      "\u001b[1;32m<ipython-input-11-23e6a15fccd9>\u001b[0m in \u001b[0;36m<module>\u001b[1;34m()\u001b[0m\n\u001b[1;32m----> 1\u001b[1;33m \u001b[1;32mprint\u001b[0m \u001b[1;34m\"sal: \"\u001b[0m\u001b[1;33m+\u001b[0m\u001b[1;36m23456\u001b[0m\u001b[1;33m\u001b[0m\u001b[0m\n\u001b[0m",
      "\u001b[1;31mTypeError\u001b[0m: cannot concatenate 'str' and 'int' objects"
     ]
    }
   ],
   "source": [
    "print \"sal: \"+23456"
   ]
  },
  {
   "cell_type": "code",
   "execution_count": 12,
   "metadata": {
    "collapsed": false
   },
   "outputs": [
    {
     "name": "stdout",
     "output_type": "stream",
     "text": [
      "sal: 23456\n"
     ]
    }
   ],
   "source": [
    "print \"sal: \"+str(23456)"
   ]
  },
  {
   "cell_type": "code",
   "execution_count": 13,
   "metadata": {
    "collapsed": false
   },
   "outputs": [
    {
     "name": "stdout",
     "output_type": "stream",
     "text": [
      "name:Anil, age:23, sal:23456, height:5.6\n"
     ]
    }
   ],
   "source": [
    "# name: Anil, age: 23, sal: 23456, height: 5.6\n",
    "print 'name:'+name+\", age:\"+str(age)+', sal:'+str(sal)+\", height:\"+str(height)"
   ]
  },
  {
   "cell_type": "code",
   "execution_count": 14,
   "metadata": {
    "collapsed": true
   },
   "outputs": [],
   "source": [
    "# format specifiers"
   ]
  },
  {
   "cell_type": "code",
   "execution_count": 15,
   "metadata": {
    "collapsed": false
   },
   "outputs": [
    {
     "name": "stdout",
     "output_type": "stream",
     "text": [
      "%d%s%f%r\n"
     ]
    }
   ],
   "source": [
    "print \"%d%s%f%r\""
   ]
  },
  {
   "cell_type": "code",
   "execution_count": 16,
   "metadata": {
    "collapsed": false
   },
   "outputs": [
    {
     "name": "stdout",
     "output_type": "stream",
     "text": [
      "%d%s%f%r (10, 'python', 12.34, 23.45)\n"
     ]
    }
   ],
   "source": [
    "print \"%d%s%f%r\",(10,\"python\",12.34,23.45)"
   ]
  },
  {
   "cell_type": "code",
   "execution_count": 17,
   "metadata": {
    "collapsed": false
   },
   "outputs": [
    {
     "name": "stdout",
     "output_type": "stream",
     "text": [
      "10python12.34000023.45\n"
     ]
    }
   ],
   "source": [
    "print \"%d%s%f%r\"%(10,\"python\",12.34,23.45)"
   ]
  },
  {
   "cell_type": "code",
   "execution_count": 18,
   "metadata": {
    "collapsed": false
   },
   "outputs": [
    {
     "name": "stdout",
     "output_type": "stream",
     "text": [
      "10,python,12.340000,23.45\n"
     ]
    }
   ],
   "source": [
    "print \"%d,%s,%f,%r\"%(10,\"python\",12.34,23.45)"
   ]
  },
  {
   "cell_type": "code",
   "execution_count": 19,
   "metadata": {
    "collapsed": false
   },
   "outputs": [
    {
     "name": "stdout",
     "output_type": "stream",
     "text": [
      "10,python,12.340000,23.45\n"
     ]
    }
   ],
   "source": [
    "print \"%d,%s,%f,%r\"%(10,\"python\",12.34,23.45)"
   ]
  },
  {
   "cell_type": "code",
   "execution_count": 20,
   "metadata": {
    "collapsed": false
   },
   "outputs": [
    {
     "name": "stdout",
     "output_type": "stream",
     "text": [
      "23\n"
     ]
    }
   ],
   "source": [
    "print \"%d\"%23.34"
   ]
  },
  {
   "cell_type": "code",
   "execution_count": 21,
   "metadata": {
    "collapsed": false
   },
   "outputs": [
    {
     "name": "stdout",
     "output_type": "stream",
     "text": [
      "45.000000\n"
     ]
    }
   ],
   "source": [
    "print \"%f\"%45"
   ]
  },
  {
   "cell_type": "code",
   "execution_count": 22,
   "metadata": {
    "collapsed": false
   },
   "outputs": [
    {
     "name": "stdout",
     "output_type": "stream",
     "text": [
      "name: Anil, age: 23, sal: 23456, height: 5.600000\n"
     ]
    }
   ],
   "source": [
    "print \"name: %s, age: %d, sal: %d, height: %f\"%(name,age,sal,height)"
   ]
  },
  {
   "cell_type": "code",
   "execution_count": 23,
   "metadata": {
    "collapsed": false
   },
   "outputs": [
    {
     "name": "stdout",
     "output_type": "stream",
     "text": [
      "23.456781\n"
     ]
    }
   ],
   "source": [
    "print \"%f\"%23.4567812345"
   ]
  },
  {
   "cell_type": "code",
   "execution_count": 24,
   "metadata": {
    "collapsed": false
   },
   "outputs": [
    {
     "name": "stdout",
     "output_type": "stream",
     "text": [
      "23.456781\n"
     ]
    }
   ],
   "source": [
    "print \"%2f\"%23.4567812345"
   ]
  },
  {
   "cell_type": "code",
   "execution_count": 25,
   "metadata": {
    "collapsed": false
   },
   "outputs": [
    {
     "name": "stdout",
     "output_type": "stream",
     "text": [
      "23.46\n"
     ]
    }
   ],
   "source": [
    "print \"%.2f\"%23.4567812345"
   ]
  },
  {
   "cell_type": "code",
   "execution_count": 26,
   "metadata": {
    "collapsed": false
   },
   "outputs": [
    {
     "name": "stdout",
     "output_type": "stream",
     "text": [
      "23.45678123\n"
     ]
    }
   ],
   "source": [
    "print \"%.8f\"%23.4567812345"
   ]
  },
  {
   "cell_type": "code",
   "execution_count": 27,
   "metadata": {
    "collapsed": false
   },
   "outputs": [
    {
     "name": "stdout",
     "output_type": "stream",
     "text": [
      "       123\n"
     ]
    }
   ],
   "source": [
    "print \"%10d\"%123"
   ]
  },
  {
   "cell_type": "code",
   "execution_count": 28,
   "metadata": {
    "collapsed": false
   },
   "outputs": [
    {
     "name": "stdout",
     "output_type": "stream",
     "text": [
      "123\n"
     ]
    }
   ],
   "source": [
    "print 123"
   ]
  },
  {
   "cell_type": "code",
   "execution_count": 29,
   "metadata": {
    "collapsed": false
   },
   "outputs": [
    {
     "name": "stdout",
     "output_type": "stream",
     "text": [
      "123\n"
     ]
    }
   ],
   "source": [
    "print \"%d\"%123"
   ]
  },
  {
   "cell_type": "code",
   "execution_count": 30,
   "metadata": {
    "collapsed": false
   },
   "outputs": [
    {
     "name": "stdout",
     "output_type": "stream",
     "text": [
      "       123\n"
     ]
    }
   ],
   "source": [
    "print \"%10d\"%123"
   ]
  },
  {
   "cell_type": "code",
   "execution_count": 31,
   "metadata": {
    "collapsed": false
   },
   "outputs": [
    {
     "name": "stdout",
     "output_type": "stream",
     "text": [
      "it's a good day\n"
     ]
    }
   ],
   "source": [
    "# it's a good day\n",
    "print \"it's a good day\""
   ]
  },
  {
   "cell_type": "code",
   "execution_count": 32,
   "metadata": {
    "collapsed": false
   },
   "outputs": [
    {
     "ename": "SyntaxError",
     "evalue": "invalid syntax (<ipython-input-32-ef1999732ed7>, line 1)",
     "output_type": "error",
     "traceback": [
      "\u001b[1;36m  File \u001b[1;32m\"<ipython-input-32-ef1999732ed7>\"\u001b[1;36m, line \u001b[1;32m1\u001b[0m\n\u001b[1;33m    print 'it's a good day'\u001b[0m\n\u001b[1;37m              ^\u001b[0m\n\u001b[1;31mSyntaxError\u001b[0m\u001b[1;31m:\u001b[0m invalid syntax\n"
     ]
    }
   ],
   "source": [
    "print 'it's a good day'"
   ]
  },
  {
   "cell_type": "code",
   "execution_count": 33,
   "metadata": {
    "collapsed": false
   },
   "outputs": [
    {
     "name": "stdout",
     "output_type": "stream",
     "text": [
      "it's a good day\n"
     ]
    }
   ],
   "source": [
    "print 'it\\'s a good day'"
   ]
  },
  {
   "cell_type": "code",
   "execution_count": 34,
   "metadata": {
    "collapsed": false
   },
   "outputs": [
    {
     "name": "stdout",
     "output_type": "stream",
     "text": [
      "\"samba\" 'python' \n"
     ]
    }
   ],
   "source": [
    "# \"samba\" 'python'\n",
    "print \"\\\"samba\\\" 'python' \""
   ]
  },
  {
   "cell_type": "code",
   "execution_count": 35,
   "metadata": {
    "collapsed": false
   },
   "outputs": [
    {
     "name": "stdout",
     "output_type": "stream",
     "text": [
      "name: Anil\n",
      "sal: 23456\n"
     ]
    }
   ],
   "source": [
    "\"\"\"\n",
    "name: Anil\n",
    "sal: 23456\n",
    "\"\"\"\n",
    "print \"name:\",name\n",
    "print \"sal:\",sal"
   ]
  },
  {
   "cell_type": "code",
   "execution_count": 37,
   "metadata": {
    "collapsed": false
   },
   "outputs": [
    {
     "name": "stdout",
     "output_type": "stream",
     "text": [
      "name: Anil\n",
      "sal: 23456\n"
     ]
    }
   ],
   "source": [
    "print \"name: %s\\nsal: %s\"%(name,sal)"
   ]
  },
  {
   "cell_type": "code",
   "execution_count": 38,
   "metadata": {
    "collapsed": false
   },
   "outputs": [
    {
     "name": "stdout",
     "output_type": "stream",
     "text": [
      "newline \n",
      "line2\t tabspace\n"
     ]
    }
   ],
   "source": [
    "print \"newline \\nline2\\t tabspace\""
   ]
  },
  {
   "cell_type": "code",
   "execution_count": 39,
   "metadata": {
    "collapsed": false
   },
   "outputs": [
    {
     "name": "stdout",
     "output_type": "stream",
     "text": [
      "line1\n",
      "line2\ttabspace\n",
      "line3\n"
     ]
    }
   ],
   "source": [
    "# line1\\nline2\\ttabspace\\nline3\n",
    "print \"line1\\nline2\\ttabspace\\nline3\""
   ]
  },
  {
   "cell_type": "code",
   "execution_count": 40,
   "metadata": {
    "collapsed": false
   },
   "outputs": [
    {
     "name": "stdout",
     "output_type": "stream",
     "text": [
      "line1\\nline2\\ttabspace\\nline3\n"
     ]
    }
   ],
   "source": [
    "# line1\\nline2\\ttabspace\\nline3\n",
    "print \"line1\\\\nline2\\\\ttabspace\\\\nline3\""
   ]
  },
  {
   "cell_type": "code",
   "execution_count": 41,
   "metadata": {
    "collapsed": false
   },
   "outputs": [
    {
     "name": "stdout",
     "output_type": "stream",
     "text": [
      "line1\\nline2\\ttabspace\\nline3\n"
     ]
    }
   ],
   "source": [
    "print r\"line1\\nline2\\ttabspace\\nline3\""
   ]
  },
  {
   "cell_type": "code",
   "execution_count": 42,
   "metadata": {
    "collapsed": false
   },
   "outputs": [
    {
     "data": {
      "text/plain": [
       "6"
      ]
     },
     "execution_count": 42,
     "metadata": {},
     "output_type": "execute_result"
    }
   ],
   "source": [
    "len(\"python\")"
   ]
  },
  {
   "cell_type": "code",
   "execution_count": 43,
   "metadata": {
    "collapsed": false
   },
   "outputs": [
    {
     "data": {
      "text/plain": [
       "3"
      ]
     },
     "execution_count": 43,
     "metadata": {},
     "output_type": "execute_result"
    }
   ],
   "source": [
    "len(\"\\n\\n\\t\")"
   ]
  },
  {
   "cell_type": "code",
   "execution_count": 44,
   "metadata": {
    "collapsed": false
   },
   "outputs": [
    {
     "data": {
      "text/plain": [
       "6"
      ]
     },
     "execution_count": 44,
     "metadata": {},
     "output_type": "execute_result"
    }
   ],
   "source": [
    "len(r\"\\n\\n\\t\")"
   ]
  },
  {
   "cell_type": "code",
   "execution_count": 45,
   "metadata": {
    "collapsed": false
   },
   "outputs": [
    {
     "name": "stdout",
     "output_type": "stream",
     "text": [
      "pythonpythonpythonpythonpythonpythonpythonpythonpythonpythonpythonpythonpythonpythonpythonpythonpythonpythonpythonpythonpythonpythonpythonpythonpythonpythonpythonpythonpythonpythonpythonpythonpythonpythonpythonpythonpythonpythonpythonpythonpythonpythonpythonpythonpythonpythonpythonpythonpythonpythonpythonpythonpythonpythonpythonpythonpythonpythonpythonpython\n"
     ]
    }
   ],
   "source": [
    "# pep8 errors\n",
    "a=\"python\"*60\n",
    "print a"
   ]
  },
  {
   "cell_type": "code",
   "execution_count": null,
   "metadata": {
    "collapsed": true
   },
   "outputs": [],
   "source": [
    "def fun()\n",
    "import module\n",
    "print name, sal\n",
    "def fun()\n",
    "    pass\n",
    "\n",
    "def fun1():"
   ]
  },
  {
   "cell_type": "code",
   "execution_count": 46,
   "metadata": {
    "collapsed": true
   },
   "outputs": [],
   "source": [
    "a1 = \"ssssssssssssssssssssssss\"\n",
    "a2 = \"ssssssssssssssssss\"\n",
    "a3 = \"sdfsfsdfsd\"\n",
    "a4 = \"fsfsdf\"\n",
    "c=a1+a2+a3+a4"
   ]
  },
  {
   "cell_type": "code",
   "execution_count": 47,
   "metadata": {
    "collapsed": false
   },
   "outputs": [
    {
     "ename": "SyntaxError",
     "evalue": "EOL while scanning string literal (<ipython-input-47-39fc24d25840>, line 1)",
     "output_type": "error",
     "traceback": [
      "\u001b[1;36m  File \u001b[1;32m\"<ipython-input-47-39fc24d25840>\"\u001b[1;36m, line \u001b[1;32m1\u001b[0m\n\u001b[1;33m    c = \"mmmmmmmmmmmmmmmmmmmmmmmmmmmmmmmmmm\u001b[0m\n\u001b[1;37m                                          ^\u001b[0m\n\u001b[1;31mSyntaxError\u001b[0m\u001b[1;31m:\u001b[0m EOL while scanning string literal\n"
     ]
    }
   ],
   "source": [
    "c = \"mmmmmmmmmmmmmmmmmmmmmmmmmmmmmmmmmm\n",
    "sdfsdf sdf sd fsd fsdf sdf\n",
    "\""
   ]
  },
  {
   "cell_type": "code",
   "execution_count": 48,
   "metadata": {
    "collapsed": true
   },
   "outputs": [],
   "source": [
    "c = \"mmmmmmmmmmmmmmmmmmmmmmmmmmmmmmmmmm\\\n",
    "sdfsdf sdf sd fsd fsdf sdf\\\n",
    "\""
   ]
  },
  {
   "cell_type": "code",
   "execution_count": 49,
   "metadata": {
    "collapsed": false
   },
   "outputs": [
    {
     "name": "stdout",
     "output_type": "stream",
     "text": [
      "mmmmmmmmmmmmmmmmmmmmmmmmmmmmmmmmmmsdfsdf sdf sd fsd fsdf sdf\n"
     ]
    }
   ],
   "source": [
    "print c"
   ]
  },
  {
   "cell_type": "code",
   "execution_count": 50,
   "metadata": {
    "collapsed": true
   },
   "outputs": [],
   "source": [
    "c=\"name:\",name+\\\n",
    "\"name:123445\""
   ]
  },
  {
   "cell_type": "code",
   "execution_count": null,
   "metadata": {
    "collapsed": true
   },
   "outputs": [],
   "source": []
  }
 ],
 "metadata": {
  "kernelspec": {
   "display_name": "Python 2",
   "language": "python",
   "name": "python2"
  },
  "language_info": {
   "codemirror_mode": {
    "name": "ipython",
    "version": 2
   },
   "file_extension": ".py",
   "mimetype": "text/x-python",
   "name": "python",
   "nbconvert_exporter": "python",
   "pygments_lexer": "ipython2",
   "version": "2.7.11"
  }
 },
 "nbformat": 4,
 "nbformat_minor": 0
}
