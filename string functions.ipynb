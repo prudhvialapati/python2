{
 "cells": [
  {
   "cell_type": "code",
   "execution_count": 1,
   "metadata": {
    "collapsed": false
   },
   "outputs": [
    {
     "name": "stdout",
     "output_type": "stream",
     "text": [
      "Enter a value:pytohn\n",
      "pytohn\n"
     ]
    }
   ],
   "source": [
    "a=raw_input(\"Enter a value:\")\n",
    "print a"
   ]
  },
  {
   "cell_type": "code",
   "execution_count": 2,
   "metadata": {
    "collapsed": false
   },
   "outputs": [
    {
     "name": "stdout",
     "output_type": "stream",
     "text": [
      "Enter a value:\n",
      "\n"
     ]
    }
   ],
   "source": [
    "a=raw_input(\"Enter a value:\")\n",
    "print a"
   ]
  },
  {
   "cell_type": "code",
   "execution_count": 3,
   "metadata": {
    "collapsed": false
   },
   "outputs": [
    {
     "name": "stdout",
     "output_type": "stream",
     "text": [
      "\n"
     ]
    }
   ],
   "source": [
    "print a"
   ]
  },
  {
   "cell_type": "code",
   "execution_count": 4,
   "metadata": {
    "collapsed": false
   },
   "outputs": [
    {
     "data": {
      "text/plain": [
       "''"
      ]
     },
     "execution_count": 4,
     "metadata": {},
     "output_type": "execute_result"
    }
   ],
   "source": [
    "a"
   ]
  },
  {
   "cell_type": "code",
   "execution_count": 5,
   "metadata": {
    "collapsed": false
   },
   "outputs": [
    {
     "name": "stdout",
     "output_type": "stream",
     "text": [
      "Enter a value:\n",
      "USer not entered a value\n"
     ]
    }
   ],
   "source": [
    "a=raw_input(\"Enter a value:\")\n",
    "if a==\"\":\n",
    "    print \"USer not entered a value\"\n",
    "else:\n",
    "    print \"USer entered a value: \",a"
   ]
  },
  {
   "cell_type": "code",
   "execution_count": 6,
   "metadata": {
    "collapsed": false
   },
   "outputs": [
    {
     "name": "stdout",
     "output_type": "stream",
     "text": [
      "Enter a value:python\n",
      "USer entered a value:  python\n"
     ]
    }
   ],
   "source": [
    "a=raw_input(\"Enter a value:\")\n",
    "if a==\"\":\n",
    "    print \"USer not entered a value\"\n",
    "else:\n",
    "    print \"USer entered a value: \",a"
   ]
  },
  {
   "cell_type": "code",
   "execution_count": 7,
   "metadata": {
    "collapsed": false
   },
   "outputs": [
    {
     "name": "stdout",
     "output_type": "stream",
     "text": [
      "if block is executed\n"
     ]
    }
   ],
   "source": [
    "if True:\n",
    "    print \"if block is executed\"\n",
    "else:\n",
    "    print \"else block is exceuted\"\n",
    "    "
   ]
  },
  {
   "cell_type": "code",
   "execution_count": 8,
   "metadata": {
    "collapsed": false
   },
   "outputs": [
    {
     "name": "stdout",
     "output_type": "stream",
     "text": [
      "else block is exceuted\n"
     ]
    }
   ],
   "source": [
    "if False:\n",
    "    print \"if block is executed\"\n",
    "else:\n",
    "    print \"else block is exceuted\"\n",
    "    "
   ]
  },
  {
   "cell_type": "code",
   "execution_count": 9,
   "metadata": {
    "collapsed": false
   },
   "outputs": [
    {
     "name": "stdout",
     "output_type": "stream",
     "text": [
      "10>20 is false\n"
     ]
    }
   ],
   "source": [
    "if bool(10>20):\n",
    "    print \"10>20 is True\"\n",
    "else:\n",
    "    print \"10>20 is false\""
   ]
  },
  {
   "cell_type": "code",
   "execution_count": 10,
   "metadata": {
    "collapsed": false
   },
   "outputs": [
    {
     "name": "stdout",
     "output_type": "stream",
     "text": [
      "bool(0) is false\n"
     ]
    }
   ],
   "source": [
    "if bool(0):\n",
    "    print \"bool(0) is true\"\n",
    "else:\n",
    "    print \"bool(0) is false\""
   ]
  },
  {
   "cell_type": "code",
   "execution_count": 11,
   "metadata": {
    "collapsed": false
   },
   "outputs": [
    {
     "name": "stdout",
     "output_type": "stream",
     "text": [
      "bool(10) is true\n"
     ]
    }
   ],
   "source": [
    "if bool(10):\n",
    "    print \"bool(10) is true\"\n",
    "else:\n",
    "    print \"bool(10) is false\""
   ]
  },
  {
   "cell_type": "code",
   "execution_count": 12,
   "metadata": {
    "collapsed": false
   },
   "outputs": [
    {
     "name": "stdout",
     "output_type": "stream",
     "text": [
      "10 is true\n"
     ]
    }
   ],
   "source": [
    "if 10:\n",
    "    print \"10 is true\"\n",
    "else:\n",
    "    print \"10 is false\""
   ]
  },
  {
   "cell_type": "code",
   "execution_count": 13,
   "metadata": {
    "collapsed": false
   },
   "outputs": [
    {
     "name": "stdout",
     "output_type": "stream",
     "text": [
      "0 is false\n"
     ]
    }
   ],
   "source": [
    "if 0:\n",
    "    print \"0 is true\"\n",
    "else:\n",
    "    print \"0 is false\""
   ]
  },
  {
   "cell_type": "code",
   "execution_count": 14,
   "metadata": {
    "collapsed": false
   },
   "outputs": [
    {
     "name": "stdout",
     "output_type": "stream",
     "text": [
      "Enter a value:python\n",
      "USer not entered a value\n"
     ]
    }
   ],
   "source": [
    "a=raw_input(\"Enter a value:\")\n",
    "if a:\n",
    "    print \"USer not entered a value\"\n",
    "else:\n",
    "    print \"USer entered a value: \",a"
   ]
  },
  {
   "cell_type": "code",
   "execution_count": 15,
   "metadata": {
    "collapsed": false
   },
   "outputs": [
    {
     "name": "stdout",
     "output_type": "stream",
     "text": [
      "Enter a value:sdfsdf\n",
      "USer entered a value:  sdfsdf\n"
     ]
    }
   ],
   "source": [
    "a=raw_input(\"Enter a value:\")\n",
    "if a:\n",
    "    print \"USer entered a value: \",a\n",
    "    \n",
    "else:\n",
    "    print \"USer not entered a value\"\n",
    "    "
   ]
  },
  {
   "cell_type": "code",
   "execution_count": 16,
   "metadata": {
    "collapsed": false
   },
   "outputs": [
    {
     "name": "stdout",
     "output_type": "stream",
     "text": [
      "Enter a value:\n",
      "USer not entered a value\n"
     ]
    }
   ],
   "source": [
    "a=raw_input(\"Enter a value:\")\n",
    "if a:\n",
    "    print \"USer entered a value: \",a\n",
    "    \n",
    "else:\n",
    "    print \"USer not entered a value\"\n",
    "    "
   ]
  },
  {
   "cell_type": "code",
   "execution_count": 17,
   "metadata": {
    "collapsed": false
   },
   "outputs": [
    {
     "name": "stdout",
     "output_type": "stream",
     "text": [
      "Enter a value:abcd\n",
      "USer entered a value:  abcd\n"
     ]
    }
   ],
   "source": [
    "a=raw_input(\"Enter a value:\")\n",
    "if a:\n",
    "    print \"USer entered a value: \",a\n",
    "    \n",
    "else:\n",
    "    print \"USer not entered a value\"\n",
    "    "
   ]
  },
  {
   "cell_type": "code",
   "execution_count": 18,
   "metadata": {
    "collapsed": false
   },
   "outputs": [
    {
     "name": "stdout",
     "output_type": "stream",
     "text": [
      "Enter a value:abs123\n",
      "USer entered a value:  abs123\n"
     ]
    }
   ],
   "source": [
    "a=raw_input(\"Enter a value:\")\n",
    "if a:\n",
    "    print \"USer entered a value: \",a\n",
    "    \n",
    "else:\n",
    "    print \"USer not entered a value\"\n",
    "    "
   ]
  },
  {
   "cell_type": "code",
   "execution_count": 19,
   "metadata": {
    "collapsed": false
   },
   "outputs": [
    {
     "data": {
      "text/plain": [
       "True"
      ]
     },
     "execution_count": 19,
     "metadata": {},
     "output_type": "execute_result"
    }
   ],
   "source": [
    "\"1234\".isdigit()"
   ]
  },
  {
   "cell_type": "code",
   "execution_count": 20,
   "metadata": {
    "collapsed": false
   },
   "outputs": [
    {
     "data": {
      "text/plain": [
       "False"
      ]
     },
     "execution_count": 20,
     "metadata": {},
     "output_type": "execute_result"
    }
   ],
   "source": [
    "\"abc123\".isdigit()"
   ]
  },
  {
   "cell_type": "code",
   "execution_count": 21,
   "metadata": {
    "collapsed": false
   },
   "outputs": [
    {
     "data": {
      "text/plain": [
       "False"
      ]
     },
     "execution_count": 21,
     "metadata": {},
     "output_type": "execute_result"
    }
   ],
   "source": [
    "\"abc\".isdigit()"
   ]
  },
  {
   "cell_type": "code",
   "execution_count": 22,
   "metadata": {
    "collapsed": false
   },
   "outputs": [
    {
     "data": {
      "text/plain": [
       "False"
      ]
     },
     "execution_count": 22,
     "metadata": {},
     "output_type": "execute_result"
    }
   ],
   "source": [
    "\"\".isdigit()"
   ]
  },
  {
   "cell_type": "code",
   "execution_count": 23,
   "metadata": {
    "collapsed": false
   },
   "outputs": [
    {
     "name": "stdout",
     "output_type": "stream",
     "text": [
      "Enter a value:1234\n",
      "String contains numbers\n"
     ]
    }
   ],
   "source": [
    "a=raw_input(\"Enter a value:\")\n",
    "if a.isdigit():\n",
    "    print \"String contains numbers\"\n",
    "    \n",
    "else:\n",
    "    print \"String does not contains numberse\"\n",
    "    "
   ]
  },
  {
   "cell_type": "code",
   "execution_count": 24,
   "metadata": {
    "collapsed": false
   },
   "outputs": [
    {
     "name": "stdout",
     "output_type": "stream",
     "text": [
      "Enter a value:123asd\n",
      "String does not contains numberse\n"
     ]
    }
   ],
   "source": [
    "a=raw_input(\"Enter a value:\")\n",
    "if a.isdigit():\n",
    "    print \"String contains numbers\"\n",
    "    \n",
    "else:\n",
    "    print \"String does not contains numberse\"\n",
    "    "
   ]
  },
  {
   "cell_type": "code",
   "execution_count": 25,
   "metadata": {
    "collapsed": false
   },
   "outputs": [
    {
     "data": {
      "text/plain": [
       "0"
      ]
     },
     "execution_count": 25,
     "metadata": {},
     "output_type": "execute_result"
    }
   ],
   "source": [
    "s=\"python program\"\n",
    "s.find('python')"
   ]
  },
  {
   "cell_type": "code",
   "execution_count": 26,
   "metadata": {
    "collapsed": false
   },
   "outputs": [
    {
     "data": {
      "text/plain": [
       "7"
      ]
     },
     "execution_count": 26,
     "metadata": {},
     "output_type": "execute_result"
    }
   ],
   "source": [
    "s.find(\"program\")"
   ]
  },
  {
   "cell_type": "code",
   "execution_count": 27,
   "metadata": {
    "collapsed": false
   },
   "outputs": [
    {
     "data": {
      "text/plain": [
       "-1"
      ]
     },
     "execution_count": 27,
     "metadata": {},
     "output_type": "execute_result"
    }
   ],
   "source": [
    "s.find(\"java\")"
   ]
  },
  {
   "cell_type": "code",
   "execution_count": 28,
   "metadata": {
    "collapsed": false
   },
   "outputs": [
    {
     "data": {
      "text/plain": [
       "'m'"
      ]
     },
     "execution_count": 28,
     "metadata": {},
     "output_type": "execute_result"
    }
   ],
   "source": [
    "s[-1]"
   ]
  },
  {
   "cell_type": "code",
   "execution_count": 29,
   "metadata": {
    "collapsed": false
   },
   "outputs": [
    {
     "name": "stdout",
     "output_type": "stream",
     "text": [
      "Enter a subvstring to search:java\n",
      "Given substring is nbot there in S\n"
     ]
    }
   ],
   "source": [
    "s=\"python program\"\n",
    "a=raw_input(\"Enter a subvstring to search:\")\n",
    "if s.find(a) == -1:\n",
    "    print \"Given substring is nbot there in S\"\n",
    "else:\n",
    "    print \"substring is there\""
   ]
  },
  {
   "cell_type": "code",
   "execution_count": 30,
   "metadata": {
    "collapsed": false
   },
   "outputs": [
    {
     "name": "stdout",
     "output_type": "stream",
     "text": [
      "Enter a subvstring to search:python\n",
      "substring is there\n"
     ]
    }
   ],
   "source": [
    "s=\"python program\"\n",
    "a=raw_input(\"Enter a subvstring to search:\")\n",
    "if s.find(a) == -1:\n",
    "    print \"Given substring is nbot there in S\"\n",
    "else:\n",
    "    print \"substring is there\""
   ]
  },
  {
   "cell_type": "code",
   "execution_count": 31,
   "metadata": {
    "collapsed": false
   },
   "outputs": [
    {
     "name": "stdout",
     "output_type": "stream",
     "text": [
      "Enter a subvstring to search:java\n",
      "Given substring is nbot there in S\n"
     ]
    }
   ],
   "source": [
    "s=\"python program\"\n",
    "a=raw_input(\"Enter a subvstring to search:\")\n",
    "if s.find(a) == -1:\n",
    "    print \"Given substring is nbot there in S\"\n",
    "else:\n",
    "    print \"substring is there at: \",s.find(a)"
   ]
  },
  {
   "cell_type": "code",
   "execution_count": 32,
   "metadata": {
    "collapsed": false
   },
   "outputs": [
    {
     "name": "stdout",
     "output_type": "stream",
     "text": [
      "Enter a subvstring to search:python\n",
      "substring is there at:  0\n"
     ]
    }
   ],
   "source": [
    "s=\"python program\"\n",
    "a=raw_input(\"Enter a subvstring to search:\")\n",
    "if s.find(a) == -1:\n",
    "    print \"Given substring is nbot there in S\"\n",
    "else:\n",
    "    print \"substring is there at: \",s.find(a)"
   ]
  },
  {
   "cell_type": "code",
   "execution_count": 33,
   "metadata": {
    "collapsed": false
   },
   "outputs": [
    {
     "name": "stdout",
     "output_type": "stream",
     "text": [
      "Enter a subvstring to search:sfsdf\n",
      "Given substring is nbot there in S\n"
     ]
    }
   ],
   "source": [
    "s=\"python program\"\n",
    "a=raw_input(\"Enter a subvstring to search:\")\n",
    "index_substring = s.find(a) \n",
    "if index_substring == -1:\n",
    "    print \"Given substring is not there in S\"\n",
    "else:\n",
    "    print \"substring is there at: \",index_substring"
   ]
  },
  {
   "cell_type": "code",
   "execution_count": 34,
   "metadata": {
    "collapsed": false
   },
   "outputs": [
    {
     "name": "stdout",
     "output_type": "stream",
     "text": [
      "Enter a stringqwer\n",
      "No spencial chars\n"
     ]
    }
   ],
   "source": [
    "s = raw_input(\"Enter a string\")\n",
    "if s.isalnum():\n",
    "    print \"No spencial chars\"\n",
    "else:\n",
    "    print \"there is special chars in given string\""
   ]
  },
  {
   "cell_type": "code",
   "execution_count": 35,
   "metadata": {
    "collapsed": false
   },
   "outputs": [
    {
     "name": "stdout",
     "output_type": "stream",
     "text": [
      "Enter a string123wert\n",
      "No spencial chars\n"
     ]
    }
   ],
   "source": [
    "s = raw_input(\"Enter a string\")\n",
    "if s.isalnum():\n",
    "    print \"No spencial chars\"\n",
    "else:\n",
    "    print \"there is special chars in given string\""
   ]
  },
  {
   "cell_type": "code",
   "execution_count": 36,
   "metadata": {
    "collapsed": false
   },
   "outputs": [
    {
     "name": "stdout",
     "output_type": "stream",
     "text": [
      "Enter a stringsambapython@gmainl.com\n",
      "there is special chars in given string\n"
     ]
    }
   ],
   "source": [
    "s = raw_input(\"Enter a string\")\n",
    "if s.isalnum():\n",
    "    print \"No spencial chars\"\n",
    "else:\n",
    "    print \"there is special chars in given string\""
   ]
  },
  {
   "cell_type": "code",
   "execution_count": 37,
   "metadata": {
    "collapsed": false
   },
   "outputs": [
    {
     "name": "stdout",
     "output_type": "stream",
     "text": [
      "Enter a stringpython program\n",
      "there is special chars in given string\n"
     ]
    }
   ],
   "source": [
    "s = raw_input(\"Enter a string\")\n",
    "if s.isalnum():\n",
    "    print \"No spencial chars\"\n",
    "else:\n",
    "    print \"there is special chars in given string\""
   ]
  },
  {
   "cell_type": "code",
   "execution_count": 38,
   "metadata": {
    "collapsed": false
   },
   "outputs": [
    {
     "data": {
      "text/plain": [
       "False"
      ]
     },
     "execution_count": 38,
     "metadata": {},
     "output_type": "execute_result"
    }
   ],
   "source": [
    "\"\".isalnum()"
   ]
  },
  {
   "cell_type": "code",
   "execution_count": 39,
   "metadata": {
    "collapsed": false
   },
   "outputs": [
    {
     "name": "stdout",
     "output_type": "stream",
     "text": [
      "Enter a string\n",
      "there is special chars in given string\n"
     ]
    }
   ],
   "source": [
    "s = raw_input(\"Enter a string\")\n",
    "if s.isalnum():\n",
    "    print \"No spencial chars\"\n",
    "else:\n",
    "    print \"there is special chars in given string\""
   ]
  },
  {
   "cell_type": "code",
   "execution_count": 40,
   "metadata": {
    "collapsed": false
   },
   "outputs": [
    {
     "name": "stdout",
     "output_type": "stream",
     "text": [
      "Enter a string\n",
      "You have not given a string\n"
     ]
    }
   ],
   "source": [
    "s = raw_input(\"Enter a string\")\n",
    "if s:\n",
    "    if s.isalnum():\n",
    "        print \"No spencial chars\"\n",
    "    else:\n",
    "        print \"there is special chars in given string\"\n",
    "else:\n",
    "    print \"You have not given a string\""
   ]
  },
  {
   "cell_type": "code",
   "execution_count": 41,
   "metadata": {
    "collapsed": false
   },
   "outputs": [
    {
     "data": {
      "text/plain": [
       "True"
      ]
     },
     "execution_count": 41,
     "metadata": {},
     "output_type": "execute_result"
    }
   ],
   "source": [
    "\"asd\".islower()"
   ]
  },
  {
   "cell_type": "code",
   "execution_count": 42,
   "metadata": {
    "collapsed": false
   },
   "outputs": [
    {
     "data": {
      "text/plain": [
       "False"
      ]
     },
     "execution_count": 42,
     "metadata": {},
     "output_type": "execute_result"
    }
   ],
   "source": [
    "\"asdWERT\".islower()"
   ]
  },
  {
   "cell_type": "code",
   "execution_count": 43,
   "metadata": {
    "collapsed": false
   },
   "outputs": [
    {
     "data": {
      "text/plain": [
       "True"
      ]
     },
     "execution_count": 43,
     "metadata": {},
     "output_type": "execute_result"
    }
   ],
   "source": [
    "\"WERT\".isupper()"
   ]
  },
  {
   "cell_type": "code",
   "execution_count": 44,
   "metadata": {
    "collapsed": false
   },
   "outputs": [
    {
     "data": {
      "text/plain": [
       "False"
      ]
     },
     "execution_count": 44,
     "metadata": {},
     "output_type": "execute_result"
    }
   ],
   "source": [
    "\"asdASD\".isupper()"
   ]
  },
  {
   "cell_type": "code",
   "execution_count": 45,
   "metadata": {
    "collapsed": false
   },
   "outputs": [
    {
     "name": "stdout",
     "output_type": "stream",
     "text": [
      "Enter a stringpython\n",
      "There is no capital letters in given string\n"
     ]
    }
   ],
   "source": [
    "s = raw_input(\"Enter a string\")\n",
    "if s.islower():\n",
    "    print \"There is no capital letters in given string\"\n",
    "else:\n",
    "    print \"there is cpaital letters in given string\""
   ]
  },
  {
   "cell_type": "code",
   "execution_count": 46,
   "metadata": {
    "collapsed": false
   },
   "outputs": [
    {
     "name": "stdout",
     "output_type": "stream",
     "text": [
      "Enter a stringpython Program\n",
      "there is cpaital letters in given string\n"
     ]
    }
   ],
   "source": [
    "s = raw_input(\"Enter a string\")\n",
    "if s.islower():\n",
    "    print \"There is no capital letters in given string\"\n",
    "else:\n",
    "    print \"there is cpaital letters in given string\""
   ]
  },
  {
   "cell_type": "code",
   "execution_count": 47,
   "metadata": {
    "collapsed": false
   },
   "outputs": [
    {
     "data": {
      "text/plain": [
       "False"
      ]
     },
     "execution_count": 47,
     "metadata": {},
     "output_type": "execute_result"
    }
   ],
   "source": [
    "\"\".islower()"
   ]
  },
  {
   "cell_type": "code",
   "execution_count": 48,
   "metadata": {
    "collapsed": false
   },
   "outputs": [
    {
     "name": "stdout",
     "output_type": "stream",
     "text": [
      "Enter a string\n",
      "No string provie to evaluate\n"
     ]
    }
   ],
   "source": [
    "s = raw_input(\"Enter a string\")\n",
    "if s:\n",
    "    if s.islower():\n",
    "        print \"There is no capital letters in given string\"\n",
    "    else:\n",
    "        print \"there is cpaital letters in given string\"\n",
    "else:\n",
    "    print \"No string provie to evaluate\""
   ]
  },
  {
   "cell_type": "code",
   "execution_count": 49,
   "metadata": {
    "collapsed": false
   },
   "outputs": [
    {
     "data": {
      "text/plain": [
       "'Python Program'"
      ]
     },
     "execution_count": 49,
     "metadata": {},
     "output_type": "execute_result"
    }
   ],
   "source": [
    "s=\"python program\"\n",
    "s.title()\n"
   ]
  },
  {
   "cell_type": "code",
   "execution_count": 50,
   "metadata": {
    "collapsed": false
   },
   "outputs": [
    {
     "data": {
      "text/plain": [
       "'Python program'"
      ]
     },
     "execution_count": 50,
     "metadata": {},
     "output_type": "execute_result"
    }
   ],
   "source": [
    "s.capitalize()"
   ]
  },
  {
   "cell_type": "code",
   "execution_count": 51,
   "metadata": {
    "collapsed": false
   },
   "outputs": [
    {
     "data": {
      "text/plain": [
       "'Pytthon program'"
      ]
     },
     "execution_count": 51,
     "metadata": {},
     "output_type": "execute_result"
    }
   ],
   "source": [
    "s=\"pytTHON pRsOGRAM\"\n",
    "s.capitalize()"
   ]
  },
  {
   "cell_type": "code",
   "execution_count": 52,
   "metadata": {
    "collapsed": false
   },
   "outputs": [
    {
     "data": {
      "text/plain": [
       "'Pytthon Program'"
      ]
     },
     "execution_count": 52,
     "metadata": {},
     "output_type": "execute_result"
    }
   ],
   "source": [
    "s.title()"
   ]
  },
  {
   "cell_type": "code",
   "execution_count": 53,
   "metadata": {
    "collapsed": false
   },
   "outputs": [
    {
     "name": "stdout",
     "output_type": "stream",
     "text": [
      "123456Dert Sdsdfsd Sdf Sdf Sdf \n",
      "123456dert sdsdfsd sdf sdf sdf \n"
     ]
    }
   ],
   "source": [
    "s=\"123456DERT sdsdfsd sdf sdf sdf \"\n",
    "print s.title()\n",
    "print s.capitalize()"
   ]
  },
  {
   "cell_type": "code",
   "execution_count": 54,
   "metadata": {
    "collapsed": false
   },
   "outputs": [
    {
     "name": "stdout",
     "output_type": "stream",
     "text": [
      "14\n"
     ]
    }
   ],
   "source": [
    "s=\"python program\"\n",
    "box_size = 25\n",
    "print len(s)"
   ]
  },
  {
   "cell_type": "code",
   "execution_count": 55,
   "metadata": {
    "collapsed": false
   },
   "outputs": [
    {
     "data": {
      "text/plain": [
       "'      python program     '"
      ]
     },
     "execution_count": 55,
     "metadata": {},
     "output_type": "execute_result"
    }
   ],
   "source": [
    "s.center(box_size)"
   ]
  },
  {
   "cell_type": "code",
   "execution_count": 56,
   "metadata": {
    "collapsed": false
   },
   "outputs": [
    {
     "data": {
      "text/plain": [
       "2"
      ]
     },
     "execution_count": 56,
     "metadata": {},
     "output_type": "execute_result"
    }
   ],
   "source": [
    "s=\"python program\"\n",
    "s.index('t')"
   ]
  },
  {
   "cell_type": "code",
   "execution_count": 57,
   "metadata": {
    "collapsed": false
   },
   "outputs": [
    {
     "data": {
      "text/plain": [
       "0"
      ]
     },
     "execution_count": 57,
     "metadata": {},
     "output_type": "execute_result"
    }
   ],
   "source": [
    "s.index('p')"
   ]
  },
  {
   "cell_type": "code",
   "execution_count": 59,
   "metadata": {
    "collapsed": false
   },
   "outputs": [
    {
     "data": {
      "text/plain": [
       "7"
      ]
     },
     "execution_count": 59,
     "metadata": {},
     "output_type": "execute_result"
    }
   ],
   "source": [
    "s.index('p',2)"
   ]
  },
  {
   "cell_type": "code",
   "execution_count": 60,
   "metadata": {
    "collapsed": true
   },
   "outputs": [],
   "source": [
    "s=\"python java c cpp python java c cpp\"\n",
    "# find out second occurance of python\n",
    "# take the string from the user and also take the substring to find out second occurance\n"
   ]
  },
  {
   "cell_type": "code",
   "execution_count": 61,
   "metadata": {
    "collapsed": false
   },
   "outputs": [
    {
     "data": {
      "text/plain": [
       "0"
      ]
     },
     "execution_count": 61,
     "metadata": {},
     "output_type": "execute_result"
    }
   ],
   "source": [
    "s=\"python program\"\n",
    "s.find('p')"
   ]
  },
  {
   "cell_type": "code",
   "execution_count": 62,
   "metadata": {
    "collapsed": false
   },
   "outputs": [
    {
     "data": {
      "text/plain": [
       "7"
      ]
     },
     "execution_count": 62,
     "metadata": {},
     "output_type": "execute_result"
    }
   ],
   "source": [
    "s.find('p',2)"
   ]
  },
  {
   "cell_type": "code",
   "execution_count": 63,
   "metadata": {
    "collapsed": false
   },
   "outputs": [
    {
     "data": {
      "text/plain": [
       "'python program'"
      ]
     },
     "execution_count": 63,
     "metadata": {},
     "output_type": "execute_result"
    }
   ],
   "source": [
    "s"
   ]
  },
  {
   "cell_type": "code",
   "execution_count": 64,
   "metadata": {
    "collapsed": false
   },
   "outputs": [
    {
     "ename": "ValueError",
     "evalue": "substring not found",
     "output_type": "error",
     "traceback": [
      "\u001b[1;31m---------------------------------------------------------------------------\u001b[0m",
      "\u001b[1;31mValueError\u001b[0m                                Traceback (most recent call last)",
      "\u001b[1;32m<ipython-input-64-b5053b8fcac2>\u001b[0m in \u001b[0;36m<module>\u001b[1;34m()\u001b[0m\n\u001b[1;32m----> 1\u001b[1;33m \u001b[0ms\u001b[0m\u001b[1;33m.\u001b[0m\u001b[0mindex\u001b[0m\u001b[1;33m(\u001b[0m\u001b[1;34m'z'\u001b[0m\u001b[1;33m)\u001b[0m\u001b[1;33m\u001b[0m\u001b[0m\n\u001b[0m",
      "\u001b[1;31mValueError\u001b[0m: substring not found"
     ]
    }
   ],
   "source": [
    "s.index('z')"
   ]
  },
  {
   "cell_type": "code",
   "execution_count": 65,
   "metadata": {
    "collapsed": false
   },
   "outputs": [
    {
     "data": {
      "text/plain": [
       "-1"
      ]
     },
     "execution_count": 65,
     "metadata": {},
     "output_type": "execute_result"
    }
   ],
   "source": [
    "s.find('z')"
   ]
  },
  {
   "cell_type": "code",
   "execution_count": 66,
   "metadata": {
    "collapsed": false
   },
   "outputs": [
    {
     "data": {
      "text/plain": [
       "'python program'"
      ]
     },
     "execution_count": 66,
     "metadata": {},
     "output_type": "execute_result"
    }
   ],
   "source": [
    "s"
   ]
  },
  {
   "cell_type": "code",
   "execution_count": 67,
   "metadata": {
    "collapsed": false
   },
   "outputs": [
    {
     "data": {
      "text/plain": [
       "1"
      ]
     },
     "execution_count": 67,
     "metadata": {},
     "output_type": "execute_result"
    }
   ],
   "source": [
    "s.count('python')"
   ]
  },
  {
   "cell_type": "code",
   "execution_count": 68,
   "metadata": {
    "collapsed": false
   },
   "outputs": [
    {
     "data": {
      "text/plain": [
       "2"
      ]
     },
     "execution_count": 68,
     "metadata": {},
     "output_type": "execute_result"
    }
   ],
   "source": [
    "s.count('p')"
   ]
  },
  {
   "cell_type": "code",
   "execution_count": 69,
   "metadata": {
    "collapsed": false
   },
   "outputs": [
    {
     "data": {
      "text/plain": [
       "0"
      ]
     },
     "execution_count": 69,
     "metadata": {},
     "output_type": "execute_result"
    }
   ],
   "source": [
    "s.count('z')"
   ]
  },
  {
   "cell_type": "code",
   "execution_count": 70,
   "metadata": {
    "collapsed": false
   },
   "outputs": [
    {
     "data": {
      "text/plain": [
       "0"
      ]
     },
     "execution_count": 70,
     "metadata": {},
     "output_type": "execute_result"
    }
   ],
   "source": [
    "s.count('P')"
   ]
  },
  {
   "cell_type": "code",
   "execution_count": 71,
   "metadata": {
    "collapsed": false
   },
   "outputs": [
    {
     "data": {
      "text/plain": [
       "'python program'"
      ]
     },
     "execution_count": 71,
     "metadata": {},
     "output_type": "execute_result"
    }
   ],
   "source": [
    "s"
   ]
  },
  {
   "cell_type": "code",
   "execution_count": 72,
   "metadata": {
    "collapsed": false
   },
   "outputs": [
    {
     "name": "stdout",
     "output_type": "stream",
     "text": [
      "Enter substring to find count:P\n",
      "0\n"
     ]
    }
   ],
   "source": [
    "s=\"python program\"\n",
    "sub = raw_input(\"Enter substring to find count:\")\n",
    "print s.count(sub)"
   ]
  },
  {
   "cell_type": "code",
   "execution_count": 73,
   "metadata": {
    "collapsed": false
   },
   "outputs": [
    {
     "name": "stdout",
     "output_type": "stream",
     "text": [
      "Enter substring to find count:P\n",
      "2\n"
     ]
    }
   ],
   "source": [
    "s=\"python program\"\n",
    "s = s.lower()\n",
    "sub = raw_input(\"Enter substring to find count:\")\n",
    "sub = sub.lower()\n",
    "print s.count(sub)"
   ]
  },
  {
   "cell_type": "code",
   "execution_count": 75,
   "metadata": {
    "collapsed": false
   },
   "outputs": [
    {
     "name": "stdout",
     "output_type": "stream",
     "text": [
      "Enter substring to find count:PYTHON\n",
      "1\n",
      "python program python\n"
     ]
    }
   ],
   "source": [
    "s=\"python program\"\n",
    "s = s.lower()\n",
    "sub = raw_input(\"Enter substring to find count:\")\n",
    "sub = sub.lower()\n",
    "print s.count(sub)\n",
    "print s,sub"
   ]
  },
  {
   "cell_type": "code",
   "execution_count": 80,
   "metadata": {
    "collapsed": false
   },
   "outputs": [
    {
     "name": "stdout",
     "output_type": "stream",
     "text": [
      "cHl0aG9uIHByb2dyYW0=\n",
      "\n"
     ]
    }
   ],
   "source": [
    "s=\"python program\"\n",
    "print s.encode('base64')"
   ]
  },
  {
   "cell_type": "code",
   "execution_count": 82,
   "metadata": {
    "collapsed": false
   },
   "outputs": [
    {
     "name": "stdout",
     "output_type": "stream",
     "text": [
      "Enter password:python prograqm\n",
      "s= python program s1= cHl0aG9uIHByb2dyYW0=\n",
      "s2= python prograqm s3= cHl0aG9uIHByb2dyYXFt\n",
      "s4= python program\n"
     ]
    }
   ],
   "source": [
    "s=\"python program\"\n",
    "\n",
    "s2 = raw_input(\"Enter password:\")\n",
    "s3 = s2.encode(\"base64\")\n",
    "s4 = s1.decode('base64')\n",
    "print \"s=\",s,\"s1=\",s1,\"s2=\",s2,\"s3=\",s3,\"s4=\",s4"
   ]
  },
  {
   "cell_type": "code",
   "execution_count": 84,
   "metadata": {
    "collapsed": false
   },
   "outputs": [
    {
     "name": "stdout",
     "output_type": "stream",
     "text": [
      "Enter password:python program\n",
      "s= python program s1= cHl0aG9uIHByb2dyYW0=\n",
      "s2= python program s3= cHl0aG9uIHByb2dyYW0=\n",
      "s4= python program\n"
     ]
    }
   ],
   "source": [
    "s=\"python program\"\n",
    "s1 = s.encode('base64')\n",
    "s2 = raw_input(\"Enter password:\")\n",
    "s3 = s2.encode(\"base64\")\n",
    "s4 = s1.decode('base64')\n",
    "print \"s=\",s,\"s1=\",s1,\"s2=\",s2,\"s3=\",s3,\"s4=\",s4"
   ]
  },
  {
   "cell_type": "code",
   "execution_count": 85,
   "metadata": {
    "collapsed": false
   },
   "outputs": [
    {
     "data": {
      "text/plain": [
       "'python program'"
      ]
     },
     "execution_count": 85,
     "metadata": {},
     "output_type": "execute_result"
    }
   ],
   "source": [
    "s"
   ]
  },
  {
   "cell_type": "code",
   "execution_count": 86,
   "metadata": {
    "collapsed": false
   },
   "outputs": [
    {
     "data": {
      "text/plain": [
       "True"
      ]
     },
     "execution_count": 86,
     "metadata": {},
     "output_type": "execute_result"
    }
   ],
   "source": [
    "s.endswith('gram')"
   ]
  },
  {
   "cell_type": "code",
   "execution_count": 87,
   "metadata": {
    "collapsed": false
   },
   "outputs": [
    {
     "data": {
      "text/plain": [
       "True"
      ]
     },
     "execution_count": 87,
     "metadata": {},
     "output_type": "execute_result"
    }
   ],
   "source": [
    "s.endswith('m')"
   ]
  },
  {
   "cell_type": "code",
   "execution_count": 88,
   "metadata": {
    "collapsed": false
   },
   "outputs": [
    {
     "data": {
      "text/plain": [
       "False"
      ]
     },
     "execution_count": 88,
     "metadata": {},
     "output_type": "execute_result"
    }
   ],
   "source": [
    "s.endswith('python')"
   ]
  },
  {
   "cell_type": "code",
   "execution_count": 89,
   "metadata": {
    "collapsed": false
   },
   "outputs": [
    {
     "data": {
      "text/plain": [
       "'PYTHON PROGRAM'"
      ]
     },
     "execution_count": 89,
     "metadata": {},
     "output_type": "execute_result"
    }
   ],
   "source": [
    "s.swapcase()"
   ]
  },
  {
   "cell_type": "code",
   "execution_count": 90,
   "metadata": {
    "collapsed": false
   },
   "outputs": [
    {
     "data": {
      "text/plain": [
       "'python PROGRAM'"
      ]
     },
     "execution_count": 90,
     "metadata": {},
     "output_type": "execute_result"
    }
   ],
   "source": [
    "s=\"PYTHON program\"\n",
    "s.swapcase()"
   ]
  },
  {
   "cell_type": "code",
   "execution_count": 91,
   "metadata": {
    "collapsed": false
   },
   "outputs": [
    {
     "name": "stdout",
     "output_type": "stream",
     "text": [
      "  user name  \n",
      "user name\n"
     ]
    }
   ],
   "source": [
    "username = \"  user name  \"\n",
    "print username\n",
    "print username.strip()"
   ]
  },
  {
   "cell_type": "code",
   "execution_count": 92,
   "metadata": {
    "collapsed": false
   },
   "outputs": [
    {
     "name": "stdout",
     "output_type": "stream",
     "text": [
      "@#$user@#$name#$@\n",
      "#$user@#$name#$\n"
     ]
    }
   ],
   "source": [
    "s=\"@#$user@#$name#$@\"\n",
    "print s\n",
    "print s.strip('@')\n"
   ]
  },
  {
   "cell_type": "code",
   "execution_count": 93,
   "metadata": {
    "collapsed": false
   },
   "outputs": [
    {
     "data": {
      "text/plain": [
       "'@#$user@#$name#$@'"
      ]
     },
     "execution_count": 93,
     "metadata": {},
     "output_type": "execute_result"
    }
   ],
   "source": [
    "s.strip('$')"
   ]
  },
  {
   "cell_type": "code",
   "execution_count": 94,
   "metadata": {
    "collapsed": false
   },
   "outputs": [
    {
     "data": {
      "text/plain": [
       "'#$user@#$name#'"
      ]
     },
     "execution_count": 94,
     "metadata": {},
     "output_type": "execute_result"
    }
   ],
   "source": [
    "s.strip('@$')"
   ]
  },
  {
   "cell_type": "code",
   "execution_count": 95,
   "metadata": {
    "collapsed": true
   },
   "outputs": [],
   "source": [
    "s=\"python program\""
   ]
  },
  {
   "cell_type": "code",
   "execution_count": 96,
   "metadata": {
    "collapsed": false
   },
   "outputs": [
    {
     "data": {
      "text/plain": [
       "0"
      ]
     },
     "execution_count": 96,
     "metadata": {},
     "output_type": "execute_result"
    }
   ],
   "source": [
    "s.count('pg')"
   ]
  },
  {
   "cell_type": "code",
   "execution_count": 97,
   "metadata": {
    "collapsed": false
   },
   "outputs": [
    {
     "name": "stdout",
     "output_type": "stream",
     "text": [
      "@#$user@#$name#$@\n",
      "user@#$name\n"
     ]
    }
   ],
   "source": [
    "s=\"@#$user@#$name#$@\"\n",
    "print s\n",
    "print s.strip('@#$')\n"
   ]
  },
  {
   "cell_type": "code",
   "execution_count": null,
   "metadata": {
    "collapsed": true
   },
   "outputs": [],
   "source": []
  }
 ],
 "metadata": {
  "kernelspec": {
   "display_name": "Python 2",
   "language": "python",
   "name": "python2"
  },
  "language_info": {
   "codemirror_mode": {
    "name": "ipython",
    "version": 2
   },
   "file_extension": ".py",
   "mimetype": "text/x-python",
   "name": "python",
   "nbconvert_exporter": "python",
   "pygments_lexer": "ipython2",
   "version": "2.7.11"
  }
 },
 "nbformat": 4,
 "nbformat_minor": 0
}
