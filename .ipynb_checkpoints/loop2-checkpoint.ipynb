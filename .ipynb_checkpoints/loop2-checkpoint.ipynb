{
 "cells": [
  {
   "cell_type": "code",
   "execution_count": 1,
   "metadata": {
    "collapsed": false
   },
   "outputs": [
    {
     "name": "stdout",
     "output_type": "stream",
     "text": [
      "p\n",
      "y\n",
      "t\n",
      "h\n",
      "o\n",
      "n\n",
      " \n",
      "p\n",
      "r\n",
      "o\n",
      "g\n",
      "r\n",
      "a\n",
      "m\n"
     ]
    }
   ],
   "source": [
    "s=\"python program\"\n",
    "for i in s:\n",
    "    print i"
   ]
  },
  {
   "cell_type": "code",
   "execution_count": 3,
   "metadata": {
    "collapsed": false
   },
   "outputs": [
    {
     "name": "stdout",
     "output_type": "stream",
     "text": [
      "[1, 3, 4]\n",
      "1\n",
      "[1, 4]\n",
      "3\n"
     ]
    }
   ],
   "source": [
    "l=[1,2,3,4]\n",
    "for i in l:\n",
    "    l.pop(1)\n",
    "    print l\n",
    "    print i"
   ]
  },
  {
   "cell_type": "code",
   "execution_count": 4,
   "metadata": {
    "collapsed": false
   },
   "outputs": [
    {
     "name": "stdout",
     "output_type": "stream",
     "text": [
      "0\n",
      "1\n",
      "2\n",
      "3\n",
      "4\n",
      "5\n",
      "6\n",
      "7\n",
      "8\n",
      "9\n"
     ]
    }
   ],
   "source": [
    "i=0\n",
    "while i<10:\n",
    "    print i\n",
    "    i=i+1"
   ]
  },
  {
   "cell_type": "code",
   "execution_count": 5,
   "metadata": {
    "collapsed": false
   },
   "outputs": [
    {
     "name": "stdout",
     "output_type": "stream",
     "text": [
      "10\n"
     ]
    }
   ],
   "source": [
    "i=0\n",
    "while i<10:\n",
    "    i=i+1\n",
    "print i"
   ]
  },
  {
   "cell_type": "code",
   "execution_count": 6,
   "metadata": {
    "collapsed": false
   },
   "outputs": [
    {
     "name": "stdout",
     "output_type": "stream",
     "text": [
      "program started\n",
      "iteration started\n",
      "p\n",
      "iteration ended\n",
      "iteration started\n",
      "y\n",
      "iteration ended\n",
      "iteration started\n",
      "t\n",
      "iteration ended\n",
      "iteration started\n",
      "h\n",
      "iteration ended\n",
      "iteration started\n",
      "o\n",
      "iteration ended\n",
      "iteration started\n",
      "n\n",
      "iteration ended\n",
      "iteration started\n",
      "other statements in program\n",
      "program ended\n"
     ]
    }
   ],
   "source": [
    "print \"program started\"\n",
    "for i in \"python program\":\n",
    "    print \"iteration started\"\n",
    "    if i.isspace():\n",
    "        break\n",
    "    print i\n",
    "    print \"iteration ended\"\n",
    "print \"other statements in program\"\n",
    "print  \"program ended\"\n",
    "    "
   ]
  },
  {
   "cell_type": "code",
   "execution_count": 7,
   "metadata": {
    "collapsed": false
   },
   "outputs": [
    {
     "name": "stdout",
     "output_type": "stream",
     "text": [
      "p\n"
     ]
    }
   ],
   "source": [
    "for i in \"python program\":\n",
    "    print i\n",
    "    break"
   ]
  },
  {
   "cell_type": "code",
   "execution_count": 8,
   "metadata": {
    "collapsed": true
   },
   "outputs": [],
   "source": [
    "for i in \"python program\":\n",
    "    break\n",
    "    print i"
   ]
  },
  {
   "cell_type": "code",
   "execution_count": 9,
   "metadata": {
    "collapsed": false
   },
   "outputs": [
    {
     "name": "stdout",
     "output_type": "stream",
     "text": [
      "p\n"
     ]
    }
   ],
   "source": [
    "for i in \"python program\":\n",
    "    break\n",
    "print i"
   ]
  },
  {
   "cell_type": "code",
   "execution_count": 10,
   "metadata": {
    "collapsed": false
   },
   "outputs": [
    {
     "name": "stdout",
     "output_type": "stream",
     "text": [
      "p\n",
      "y\n",
      "t\n",
      "h\n",
      "o\n",
      "n\n",
      " \n",
      "p\n",
      "r\n",
      "o\n",
      "g\n",
      "r\n",
      "a\n",
      "m\n"
     ]
    }
   ],
   "source": [
    "for i in \"python program\":\n",
    "    print i\n",
    "    continue\n",
    "    "
   ]
  },
  {
   "cell_type": "code",
   "execution_count": 11,
   "metadata": {
    "collapsed": true
   },
   "outputs": [],
   "source": [
    "for i in \"python program\":\n",
    "    continue\n",
    "    print i\n",
    "    "
   ]
  },
  {
   "cell_type": "code",
   "execution_count": 12,
   "metadata": {
    "collapsed": false
   },
   "outputs": [
    {
     "name": "stdout",
     "output_type": "stream",
     "text": [
      "m\n"
     ]
    }
   ],
   "source": [
    "for i in \"python program\":\n",
    "    continue\n",
    "print i\n",
    "    "
   ]
  },
  {
   "cell_type": "code",
   "execution_count": 13,
   "metadata": {
    "collapsed": false
   },
   "outputs": [
    {
     "name": "stdout",
     "output_type": "stream",
     "text": [
      "p\n"
     ]
    }
   ],
   "source": [
    "for i in \"python program\":\n",
    "    break\n",
    "print i\n",
    "    "
   ]
  },
  {
   "cell_type": "code",
   "execution_count": 14,
   "metadata": {
    "collapsed": false
   },
   "outputs": [
    {
     "name": "stdout",
     "output_type": "stream",
     "text": [
      "program started\n",
      "iteration started\n",
      "iteration started\n",
      "y\n",
      "iteration ended\n",
      "iteration started\n",
      "t\n",
      "iteration ended\n",
      "iteration started\n",
      "h\n",
      "iteration ended\n",
      "iteration started\n",
      "o\n",
      "iteration ended\n",
      "iteration started\n",
      "n\n",
      "iteration ended\n",
      "iteration started\n",
      " \n",
      "iteration ended\n",
      "iteration started\n",
      "iteration started\n",
      "r\n",
      "iteration ended\n",
      "iteration started\n",
      "o\n",
      "iteration ended\n",
      "iteration started\n",
      "g\n",
      "iteration ended\n",
      "iteration started\n",
      "r\n",
      "iteration ended\n",
      "iteration started\n",
      "a\n",
      "iteration ended\n",
      "iteration started\n",
      "m\n",
      "iteration ended\n",
      "other statements in program\n",
      "program ended\n"
     ]
    }
   ],
   "source": [
    "print \"program started\"\n",
    "for i in \"python program\":\n",
    "    print \"iteration started\"\n",
    "    if i == \"p\":\n",
    "        continue\n",
    "    print i\n",
    "    print \"iteration ended\"\n",
    "print \"other statements in program\"\n",
    "print  \"program ended\"\n",
    "    "
   ]
  },
  {
   "cell_type": "code",
   "execution_count": 16,
   "metadata": {
    "collapsed": false
   },
   "outputs": [
    {
     "name": "stdout",
     "output_type": "stream",
     "text": [
      "\n",
      "1. Windows\n",
      "2. Linux\n",
      "3. Mac\n",
      "\n",
      "1. Windows\n",
      "2. Linux\n",
      "3. Mac\n"
     ]
    }
   ],
   "source": [
    "print \"\"\"\n",
    "1. Windows\n",
    "2. Linux\n",
    "3. Mac\n",
    "\"\"\"\n",
    "print \"1. Windows\\n2. Linux\\n3. Mac\""
   ]
  },
  {
   "cell_type": "code",
   "execution_count": 17,
   "metadata": {
    "collapsed": false
   },
   "outputs": [
    {
     "name": "stdout",
     "output_type": "stream",
     "text": [
      "\n",
      "1. Windows\n",
      "2. Linux\n",
      "3. Mac\n",
      "\n",
      "Select an OS:1\n",
      "Windows selected\n"
     ]
    }
   ],
   "source": [
    "print \"\"\"\n",
    "1. Windows\n",
    "2. Linux\n",
    "3. Mac\n",
    "\"\"\"\n",
    "os = raw_input(\"Select an OS:\")\n",
    "if os=='1':\n",
    "    print \"Windows selected\"\n",
    "if os == '2':\n",
    "    print \"Linux selected\"\n",
    "if os==\"3\":\n",
    "    print \"Mac selected\""
   ]
  },
  {
   "cell_type": "code",
   "execution_count": 18,
   "metadata": {
    "collapsed": false
   },
   "outputs": [
    {
     "name": "stdout",
     "output_type": "stream",
     "text": [
      "\n",
      "1. Windows\n",
      "2. Linux\n",
      "3. Mac\n",
      "\n",
      "Select an OS:2\n",
      "Linux selected\n"
     ]
    }
   ],
   "source": [
    "print \"\"\"\n",
    "1. Windows\n",
    "2. Linux\n",
    "3. Mac\n",
    "\"\"\"\n",
    "os = raw_input(\"Select an OS:\")\n",
    "if os=='1':\n",
    "    print \"Windows selected\"\n",
    "if os == '2':\n",
    "    print \"Linux selected\"\n",
    "if os==\"3\":\n",
    "    print \"Mac selected\""
   ]
  },
  {
   "cell_type": "code",
   "execution_count": 19,
   "metadata": {
    "collapsed": false
   },
   "outputs": [
    {
     "name": "stdout",
     "output_type": "stream",
     "text": [
      "\n",
      "1. Windows\n",
      "2. Linux\n",
      "3. Mac\n",
      "\n",
      "Select an OS:3\n",
      "Mac selected\n"
     ]
    }
   ],
   "source": [
    "print \"\"\"\n",
    "1. Windows\n",
    "2. Linux\n",
    "3. Mac\n",
    "\"\"\"\n",
    "os = raw_input(\"Select an OS:\")\n",
    "if os=='1':\n",
    "    print \"Windows selected\"\n",
    "if os == '2':\n",
    "    print \"Linux selected\"\n",
    "if os==\"3\":\n",
    "    print \"Mac selected\""
   ]
  },
  {
   "cell_type": "code",
   "execution_count": 20,
   "metadata": {
    "collapsed": false
   },
   "outputs": [
    {
     "name": "stdout",
     "output_type": "stream",
     "text": [
      "\n",
      "1. Windows\n",
      "2. Linux\n",
      "3. Mac\n",
      "\n",
      "Select an OS:4\n"
     ]
    }
   ],
   "source": [
    "print \"\"\"\n",
    "1. Windows\n",
    "2. Linux\n",
    "3. Mac\n",
    "\"\"\"\n",
    "os = raw_input(\"Select an OS:\")\n",
    "if os=='1':\n",
    "    print \"Windows selected\"\n",
    "if os == '2':\n",
    "    print \"Linux selected\"\n",
    "if os==\"3\":\n",
    "    print \"Mac selected\""
   ]
  },
  {
   "cell_type": "code",
   "execution_count": 21,
   "metadata": {
    "collapsed": false
   },
   "outputs": [
    {
     "name": "stdout",
     "output_type": "stream",
     "text": [
      "\n",
      "1. Windows\n",
      "2. Linux\n",
      "3. Mac\n",
      "\n",
      "Select an OS:2\n",
      "Linux selected\n",
      "Invalid option\n"
     ]
    }
   ],
   "source": [
    "print \"\"\"\n",
    "1. Windows\n",
    "2. Linux\n",
    "3. Mac\n",
    "\"\"\"\n",
    "os = raw_input(\"Select an OS:\")\n",
    "if os=='1':\n",
    "    print \"Windows selected\"\n",
    "if os == '2':\n",
    "    print \"Linux selected\"\n",
    "if os==\"3\":\n",
    "    print \"Mac selected\"\n",
    "else:\n",
    "    print \"Invalid option\""
   ]
  },
  {
   "cell_type": "code",
   "execution_count": 22,
   "metadata": {
    "collapsed": false
   },
   "outputs": [
    {
     "name": "stdout",
     "output_type": "stream",
     "text": [
      "\n",
      "1. Windows\n",
      "2. Linux\n",
      "3. Mac\n",
      "\n",
      "Select an OS:2\n",
      "Linux selected\n",
      "other staements in program\n",
      "program ended\n"
     ]
    }
   ],
   "source": [
    "print \"\"\"\n",
    "1. Windows\n",
    "2. Linux\n",
    "3. Mac\n",
    "\"\"\"\n",
    "os = raw_input(\"Select an OS:\")\n",
    "if os=='1':\n",
    "    print \"Windows selected\"\n",
    "elif os == '2':\n",
    "    print \"Linux selected\"\n",
    "elif os==\"3\":\n",
    "    print \"Mac selected\"\n",
    "else:\n",
    "    print \"Invalid option\"\n",
    "print \"other staements in program\"\n",
    "print \"program ended\""
   ]
  },
  {
   "cell_type": "code",
   "execution_count": 23,
   "metadata": {
    "collapsed": false
   },
   "outputs": [
    {
     "name": "stdout",
     "output_type": "stream",
     "text": [
      "\n",
      "1. Windows\n",
      "2. Linux\n",
      "3. Mac\n",
      "\n",
      "Select an OS:1\n",
      "Windows selected\n",
      "other staements in program\n",
      "program ended\n"
     ]
    }
   ],
   "source": [
    "print \"\"\"\n",
    "1. Windows\n",
    "2. Linux\n",
    "3. Mac\n",
    "\"\"\"\n",
    "os = raw_input(\"Select an OS:\")\n",
    "if os=='1':\n",
    "    print \"Windows selected\"\n",
    "elif os == '2':\n",
    "    print \"Linux selected\"\n",
    "elif os==\"3\":\n",
    "    print \"Mac selected\"\n",
    "else:\n",
    "    print \"Invalid option\"\n",
    "print \"other staements in program\"\n",
    "print \"program ended\""
   ]
  },
  {
   "cell_type": "code",
   "execution_count": 24,
   "metadata": {
    "collapsed": false
   },
   "outputs": [
    {
     "name": "stdout",
     "output_type": "stream",
     "text": [
      "\n",
      "1. Windows\n",
      "2. Linux\n",
      "3. Mac\n",
      "\n",
      "Select an OS:5\n",
      "Invalid option\n",
      "other staements in program\n",
      "program ended\n"
     ]
    }
   ],
   "source": [
    "print \"\"\"\n",
    "1. Windows\n",
    "2. Linux\n",
    "3. Mac\n",
    "\"\"\"\n",
    "os = raw_input(\"Select an OS:\")\n",
    "if os=='1':\n",
    "    print \"Windows selected\"\n",
    "elif os == '2':\n",
    "    print \"Linux selected\"\n",
    "elif os==\"3\":\n",
    "    print \"Mac selected\"\n",
    "else:\n",
    "    print \"Invalid option\"\n",
    "print \"other staements in program\"\n",
    "print \"program ended\""
   ]
  },
  {
   "cell_type": "code",
   "execution_count": 25,
   "metadata": {
    "collapsed": false
   },
   "outputs": [
    {
     "name": "stdout",
     "output_type": "stream",
     "text": [
      "\n",
      "1. Windows\n",
      "2. Linux\n",
      "3. Mac\n",
      "4. quit\n",
      "\n",
      "Select an OS:2\n",
      "Linux selected\n",
      "other staements in program\n",
      "program ended\n"
     ]
    }
   ],
   "source": [
    "print \"\"\"\n",
    "1. Windows\n",
    "2. Linux\n",
    "3. Mac\n",
    "4. quit\n",
    "\"\"\"\n",
    "os = raw_input(\"Select an OS:\")\n",
    "if os=='1':\n",
    "    print \"Windows selected\"\n",
    "elif os == '2':\n",
    "    print \"Linux selected\"\n",
    "elif os==\"3\":\n",
    "    print \"Mac selected\"\n",
    "else:\n",
    "    print \"Invalid option\"\n",
    "print \"other staements in program\"\n",
    "print \"program ended\""
   ]
  },
  {
   "cell_type": "code",
   "execution_count": 26,
   "metadata": {
    "collapsed": false
   },
   "outputs": [
    {
     "name": "stdout",
     "output_type": "stream",
     "text": [
      "10<20 is true\n"
     ]
    }
   ],
   "source": [
    "if 10<20:\n",
    "    print \"10<20 is true\"\n"
   ]
  },
  {
   "cell_type": "code",
   "execution_count": 27,
   "metadata": {
    "collapsed": false
   },
   "outputs": [
    {
     "ename": "IndentationError",
     "evalue": "expected an indented block (<ipython-input-27-f636e9a7ab7c>, line 4)",
     "output_type": "error",
     "traceback": [
      "\u001b[1;36m  File \u001b[1;32m\"<ipython-input-27-f636e9a7ab7c>\"\u001b[1;36m, line \u001b[1;32m4\u001b[0m\n\u001b[1;33m    \u001b[0m\n\u001b[1;37m    ^\u001b[0m\n\u001b[1;31mIndentationError\u001b[0m\u001b[1;31m:\u001b[0m expected an indented block\n"
     ]
    }
   ],
   "source": [
    "if 10<20:\n",
    "    print \"10<20 is true\"\n",
    "else:\n",
    "    "
   ]
  },
  {
   "cell_type": "code",
   "execution_count": 28,
   "metadata": {
    "collapsed": false
   },
   "outputs": [
    {
     "name": "stdout",
     "output_type": "stream",
     "text": [
      "10<20 is true\n"
     ]
    }
   ],
   "source": [
    "if 10<20:\n",
    "    print \"10<20 is true\"\n",
    "else:\n",
    "    print \"\""
   ]
  },
  {
   "cell_type": "code",
   "execution_count": 29,
   "metadata": {
    "collapsed": false
   },
   "outputs": [
    {
     "name": "stdout",
     "output_type": "stream",
     "text": [
      "10<20 is true\n"
     ]
    }
   ],
   "source": [
    "if 10<20:\n",
    "    print \"10<20 is true\"\n",
    "else:\n",
    "    pass"
   ]
  },
  {
   "cell_type": "code",
   "execution_count": null,
   "metadata": {
    "collapsed": true
   },
   "outputs": [],
   "source": []
  }
 ],
 "metadata": {
  "kernelspec": {
   "display_name": "Python 2",
   "language": "python",
   "name": "python2"
  },
  "language_info": {
   "codemirror_mode": {
    "name": "ipython",
    "version": 2
   },
   "file_extension": ".py",
   "mimetype": "text/x-python",
   "name": "python",
   "nbconvert_exporter": "python",
   "pygments_lexer": "ipython2",
   "version": "2.7.11"
  }
 },
 "nbformat": 4,
 "nbformat_minor": 0
}
