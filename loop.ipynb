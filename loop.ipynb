{
 "cells": [
  {
   "cell_type": "code",
   "execution_count": 2,
   "metadata": {
    "collapsed": false
   },
   "outputs": [
    {
     "name": "stdout",
     "output_type": "stream",
     "text": [
      "Hello world\n",
      "Hello world\n",
      "Hello world\n",
      "Hello world\n",
      "Hello world\n",
      "Hello world\n",
      "Hello world\n"
     ]
    }
   ],
   "source": [
    "print \"Hello world\"\n",
    "print \"Hello world\"\n",
    "print \"Hello world\"\n",
    "print \"Hello world\"\n",
    "print \"Hello world\"\n",
    "print \"Hello world\"\n",
    "print \"Hello world\""
   ]
  },
  {
   "cell_type": "code",
   "execution_count": 3,
   "metadata": {
    "collapsed": false
   },
   "outputs": [
    {
     "name": "stdout",
     "output_type": "stream",
     "text": [
      "hello world1\n",
      "hello world2\n",
      "hello world3\n",
      "hello world4\n",
      "hello world5\n",
      "hello world6\n"
     ]
    }
   ],
   "source": [
    "for i in \"123456\":\n",
    "    print \"hello world\"+i"
   ]
  },
  {
   "cell_type": "code",
   "execution_count": 5,
   "metadata": {
    "collapsed": false
   },
   "outputs": [
    {
     "name": "stdout",
     "output_type": "stream",
     "text": [
      "program started\n",
      "iteration started\n",
      "1\n",
      "iteration ended\n",
      "iteration started\n",
      "2\n",
      "iteration ended\n",
      "iteration started\n",
      "3\n",
      "iteration ended\n",
      "iteration started\n",
      "4\n",
      "iteration ended\n",
      "iteration started\n",
      "5\n",
      "iteration ended\n",
      "iteration started\n",
      "6\n",
      "iteration ended\n",
      "other statements in progra,m\n",
      "program ended\n"
     ]
    }
   ],
   "source": [
    "print \"program started\"\n",
    "for i in \"123456\":\n",
    "    print \"iteration started\"\n",
    "    print i\n",
    "    print \"iteration ended\"\n",
    "print \"other statements in progra,m\"\n",
    "print \"program ended\""
   ]
  },
  {
   "cell_type": "code",
   "execution_count": 4,
   "metadata": {
    "collapsed": false
   },
   "outputs": [
    {
     "name": "stdout",
     "output_type": "stream",
     "text": [
      "1\n",
      "2\n",
      "3\n",
      "4\n",
      "5\n",
      "6\n"
     ]
    }
   ],
   "source": [
    "for i in \"123456\":\n",
    "    print i"
   ]
  },
  {
   "cell_type": "code",
   "execution_count": null,
   "metadata": {
    "collapsed": true
   },
   "outputs": [],
   "source": [
    "print \"program started\"\n",
    "i=0\n",
    "while i<10:\n",
    "    print \"itr started\"\n",
    "    print i\n",
    "    print \"iter ended\"\n",
    "print \"Other statemwents in program\"\n",
    "print \"program ended\""
   ]
  },
  {
   "cell_type": "code",
   "execution_count": null,
   "metadata": {
    "collapsed": true
   },
   "outputs": [],
   "source": [
    "print \"program started\"\n",
    "i=0\n",
    "while i<10:\n",
    "    print \"itr started\"\n",
    "    print i\n",
    "    print \"iter ended\"\n",
    "i=i+1\n",
    "print \"Other statemwents in program\"\n",
    "print \"program ended\""
   ]
  },
  {
   "cell_type": "code",
   "execution_count": 6,
   "metadata": {
    "collapsed": false
   },
   "outputs": [
    {
     "name": "stdout",
     "output_type": "stream",
     "text": [
      "program started\n",
      "itr started\n",
      "0\n",
      "iter ended\n",
      "itr started\n",
      "1\n",
      "iter ended\n",
      "itr started\n",
      "2\n",
      "iter ended\n",
      "itr started\n",
      "3\n",
      "iter ended\n",
      "itr started\n",
      "4\n",
      "iter ended\n",
      "itr started\n",
      "5\n",
      "iter ended\n",
      "itr started\n",
      "6\n",
      "iter ended\n",
      "itr started\n",
      "7\n",
      "iter ended\n",
      "itr started\n",
      "8\n",
      "iter ended\n",
      "itr started\n",
      "9\n",
      "iter ended\n",
      "Other statemwents in program\n",
      "program ended\n"
     ]
    }
   ],
   "source": [
    "print \"program started\"\n",
    "i=0\n",
    "while i<10:\n",
    "    print \"itr started\"\n",
    "    print i\n",
    "    i=i+1\n",
    "    print \"iter ended\"\n",
    "    \n",
    "print \"Other statemwents in program\"\n",
    "print \"program ended\""
   ]
  },
  {
   "cell_type": "code",
   "execution_count": null,
   "metadata": {
    "collapsed": true
   },
   "outputs": [],
   "source": [
    "print \"program started\"\n",
    "i=0\n",
    "if i<10:\n",
    "    print \"itr started\"\n",
    "    print i\n",
    "    print \"iter ended\"\n",
    "print \"Other statemwents in program\"\n",
    "print \"program ended\""
   ]
  }
 ],
 "metadata": {
  "kernelspec": {
   "display_name": "Python 2",
   "language": "python",
   "name": "python2"
  },
  "language_info": {
   "codemirror_mode": {
    "name": "ipython",
    "version": 2
   },
   "file_extension": ".py",
   "mimetype": "text/x-python",
   "name": "python",
   "nbconvert_exporter": "python",
   "pygments_lexer": "ipython2",
   "version": "2.7.11"
  }
 },
 "nbformat": 4,
 "nbformat_minor": 0
}
