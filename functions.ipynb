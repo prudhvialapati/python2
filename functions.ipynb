{
 "cells": [
  {
   "cell_type": "code",
   "execution_count": 7,
   "metadata": {
    "collapsed": false
   },
   "outputs": [
    {
     "name": "stdout",
     "output_type": "stream",
     "text": [
      "\n",
      "    1. Windows\n",
      "    2. Linux\n",
      "    3. Mac\n",
      "    4. quit\n",
      "    \n",
      "Select an OS:1\n",
      "Windows selected\n",
      "other staements in program\n",
      "program ended\n",
      "\n",
      "    1. Windows\n",
      "    2. Linux\n",
      "    3. Mac\n",
      "    4. quit\n",
      "    \n",
      "Select an OS:2\n",
      "Linux selected\n",
      "other staements in program\n",
      "program ended\n",
      "\n",
      "    1. Windows\n",
      "    2. Linux\n",
      "    3. Mac\n",
      "    4. quit\n",
      "    \n",
      "Select an OS:-2\n",
      "Invalid option . Terminating the loop\n"
     ]
    }
   ],
   "source": [
    "while 1:\n",
    "    print \"\"\"\n",
    "    1. Windows\n",
    "    2. Linux\n",
    "    3. Mac\n",
    "    4. quit\n",
    "    \"\"\"\n",
    "    os = raw_input(\"Select an OS:\")\n",
    "    if os.isdigit():\n",
    "        if os >= '4' and os <= 0:\n",
    "            print \"Invalid option . Terminating the loop\"\n",
    "            break\n",
    "        elif os=='1':\n",
    "            print \"Windows selected\"\n",
    "        elif os == '2':\n",
    "            print \"Linux selected\"\n",
    "        elif os==\"3\":\n",
    "            print \"Mac selected\"\n",
    "    else:\n",
    "        print \"Invalid option . Terminating the loop\"\n",
    "        break\n",
    "   \n",
    "    print \"other staements in program\"\n",
    "    print \"program ended\""
   ]
  },
  {
   "cell_type": "code",
   "execution_count": 8,
   "metadata": {
    "collapsed": false
   },
   "outputs": [
    {
     "name": "stdout",
     "output_type": "stream",
     "text": [
      "\n",
      "    1. Windows\n",
      "    2. Linux\n",
      "    3. Mac\n",
      "    4. quit\n",
      "    \n",
      "Select an OS:qwer\n",
      "Invalid option . Terminating the loop\n"
     ]
    }
   ],
   "source": [
    "while 1:\n",
    "    print \"\"\"\n",
    "    1. Windows\n",
    "    2. Linux\n",
    "    3. Mac\n",
    "    4. quit\n",
    "    \"\"\"\n",
    "    os = raw_input(\"Select an OS:\")\n",
    "    if os.isdigit():\n",
    "        if os >= '4' and os <= 0:\n",
    "            print \"Invalid option . Terminating the loop\"\n",
    "            break\n",
    "        elif os=='1':\n",
    "            print \"Windows selected\"\n",
    "        elif os == '2':\n",
    "            print \"Linux selected\"\n",
    "        elif os==\"3\":\n",
    "            print \"Mac selected\"\n",
    "    else:\n",
    "        print \"Invalid option . Terminating the loop\"\n",
    "        break\n",
    "   \n",
    "    print \"other staements in program\"\n",
    "    print \"program ended\""
   ]
  },
  {
   "cell_type": "code",
   "execution_count": 4,
   "metadata": {
    "collapsed": false
   },
   "outputs": [
    {
     "name": "stdout",
     "output_type": "stream",
     "text": [
      "False\n"
     ]
    }
   ],
   "source": [
    "i=[1,2,3,4]\n",
    "print i is [1,2,3,4]"
   ]
  },
  {
   "cell_type": "code",
   "execution_count": 10,
   "metadata": {
    "collapsed": false
   },
   "outputs": [
    {
     "name": "stdout",
     "output_type": "stream",
     "text": [
      "\n",
      "    1. Windows\n",
      "    2. Linux\n",
      "    3. Mac\n",
      "    4. quit\n",
      "    \n",
      "Select an OS:2\n",
      "Linux selected\n",
      "other staements in program\n",
      "program ended\n",
      "\n",
      "    1. Windows\n",
      "    2. Linux\n",
      "    3. Mac\n",
      "    4. quit\n",
      "    \n",
      "Select an OS:4\n",
      "Invalid option . Terminating the loop\n"
     ]
    }
   ],
   "source": [
    "def fun():\n",
    "    print \"Invalid option . Terminating the loop\"\n",
    "    \n",
    "    \n",
    "while 1:\n",
    "    print \"\"\"\n",
    "    1. Windows\n",
    "    2. Linux\n",
    "    3. Mac\n",
    "    4. quit\n",
    "    \"\"\"\n",
    "    os = raw_input(\"Select an OS:\")\n",
    "    if os.isdigit():\n",
    "        if os >= '4' or os <= 0:\n",
    "            fun()\n",
    "            break\n",
    "        elif os=='1':\n",
    "            print \"Windows selected\"\n",
    "        elif os == '2':\n",
    "            print \"Linux selected\"\n",
    "        elif os==\"3\":\n",
    "            print \"Mac selected\"\n",
    "    else:\n",
    "        fun()\n",
    "        break\n",
    "   \n",
    "    print \"other staements in program\"\n",
    "    print \"program ended\""
   ]
  },
  {
   "cell_type": "code",
   "execution_count": 11,
   "metadata": {
    "collapsed": false
   },
   "outputs": [
    {
     "name": "stdout",
     "output_type": "stream",
     "text": [
      "60\n"
     ]
    }
   ],
   "source": [
    "def fun(a,b,c):\n",
    "    \"\"\"\n",
    "    Type: function\n",
    "    fun(a,b,c,[d,e,f])\n",
    "    params:a int,str\n",
    "    b int\n",
    "    c int\n",
    "    d float\n",
    "    e int \n",
    "    f int\n",
    "    Description: To explain functions\n",
    "    return: int,float,str\n",
    "    \"\"\"\n",
    "    return a+b+c\n",
    "print fun(10,20,30)"
   ]
  },
  {
   "cell_type": "code",
   "execution_count": 12,
   "metadata": {
    "collapsed": true
   },
   "outputs": [],
   "source": [
    "fun?"
   ]
  },
  {
   "cell_type": "code",
   "execution_count": 13,
   "metadata": {
    "collapsed": false
   },
   "outputs": [
    {
     "name": "stdout",
     "output_type": "stream",
     "text": [
      "a=200,b=300\n",
      "500\n"
     ]
    }
   ],
   "source": [
    "def fun(a,b):\n",
    "    a=a+100\n",
    "    b=b+100\n",
    "    print \"a={0},b={1}\".format(a,b)\n",
    "    return a+b\n",
    "c=fun(100,200)\n",
    "print c"
   ]
  },
  {
   "cell_type": "code",
   "execution_count": null,
   "metadata": {
    "collapsed": true
   },
   "outputs": [],
   "source": [
    "def fun(a,b):\n",
    "    a=a+100\n",
    "    b=b+100\n",
    "    print \"a={0},b={1}\".format(a,b)\n",
    "    return a+b\n",
    "c=fun(100,200)\n",
    "print c"
   ]
  },
  {
   "cell_type": "code",
   "execution_count": 14,
   "metadata": {
    "collapsed": false
   },
   "outputs": [
    {
     "name": "stdout",
     "output_type": "stream",
     "text": [
      "60\n",
      "None\n"
     ]
    }
   ],
   "source": [
    "def fun1():\n",
    "    print 10+20+30\n",
    "d=fun1()\n",
    "print d"
   ]
  },
  {
   "cell_type": "code",
   "execution_count": 16,
   "metadata": {
    "collapsed": false
   },
   "outputs": [
    {
     "name": "stdout",
     "output_type": "stream",
     "text": [
      "a=100,b=200\n"
     ]
    },
    {
     "ename": "TypeError",
     "evalue": "fun() takes exactly 2 arguments (1 given)",
     "output_type": "error",
     "traceback": [
      "\u001b[1;31m---------------------------------------------------------------------------\u001b[0m",
      "\u001b[1;31mTypeError\u001b[0m                                 Traceback (most recent call last)",
      "\u001b[1;32m<ipython-input-16-f861c9390fc4>\u001b[0m in \u001b[0;36m<module>\u001b[1;34m()\u001b[0m\n\u001b[0;32m      3\u001b[0m     \u001b[1;32mreturn\u001b[0m \u001b[0ma\u001b[0m\u001b[1;33m+\u001b[0m\u001b[0mb\u001b[0m\u001b[1;33m\u001b[0m\u001b[0m\n\u001b[0;32m      4\u001b[0m \u001b[0mc\u001b[0m\u001b[1;33m=\u001b[0m\u001b[0mfun\u001b[0m\u001b[1;33m(\u001b[0m\u001b[1;36m100\u001b[0m\u001b[1;33m,\u001b[0m\u001b[1;36m200\u001b[0m\u001b[1;33m)\u001b[0m\u001b[1;33m\u001b[0m\u001b[0m\n\u001b[1;32m----> 5\u001b[1;33m \u001b[1;32mprint\u001b[0m \u001b[0mfun\u001b[0m\u001b[1;33m(\u001b[0m\u001b[1;36m100\u001b[0m\u001b[1;33m)\u001b[0m\u001b[1;33m\u001b[0m\u001b[0m\n\u001b[0m",
      "\u001b[1;31mTypeError\u001b[0m: fun() takes exactly 2 arguments (1 given)"
     ]
    }
   ],
   "source": [
    "def fun(a,b):\n",
    "    print \"a={0},b={1}\".format(a,b)\n",
    "    return a+b\n",
    "c=fun(100,200)\n",
    "print fun(100)"
   ]
  },
  {
   "cell_type": "code",
   "execution_count": 15,
   "metadata": {
    "collapsed": false
   },
   "outputs": [
    {
     "name": "stdout",
     "output_type": "stream",
     "text": [
      "a=100,b=200\n",
      "a=200,b=0\n",
      "200\n"
     ]
    }
   ],
   "source": [
    "def fun(a,b=0):\n",
    "    print \"a={0},b={1}\".format(a,b)\n",
    "    return a+b\n",
    "c=fun(100,200)\n",
    "print fun(200)"
   ]
  },
  {
   "cell_type": "code",
   "execution_count": null,
   "metadata": {
    "collapsed": true
   },
   "outputs": [],
   "source": [
    "print fun(100,200,300)\n",
    "print fun()\n",
    "print fun(100)\n",
    "print fun(1000,2000)"
   ]
  },
  {
   "cell_type": "code",
   "execution_count": 9,
   "metadata": {
    "collapsed": false
   },
   "outputs": [
    {
     "name": "stdout",
     "output_type": "stream",
     "text": [
      "\n",
      "    1. Windows\n",
      "    2. Linux\n",
      "    3. Mac\n",
      "    4. quit\n",
      "    \n",
      "Select an OS:1000\n",
      "other staements in program\n",
      "program ended\n",
      "\n",
      "    1. Windows\n",
      "    2. Linux\n",
      "    3. Mac\n",
      "    4. quit\n",
      "    \n",
      "Select an OS:4\n",
      "other staements in program\n",
      "program ended\n",
      "\n",
      "    1. Windows\n",
      "    2. Linux\n",
      "    3. Mac\n",
      "    4. quit\n",
      "    \n",
      "Select an OS:5\n",
      "Invalid option . Terminating the loop\n"
     ]
    }
   ],
   "source": [
    "while 1:\n",
    "    print \"\"\"\n",
    "    1. Windows\n",
    "    2. Linux\n",
    "    3. Mac\n",
    "    4. quit\n",
    "    \"\"\"\n",
    "    os = raw_input(\"Select an OS:\")\n",
    "    if os.isdigit():\n",
    "        if os > '4' or os <= '0':\n",
    "            print \"Invalid option . Terminating the loop\"\n",
    "            break\n",
    "        elif os=='1':\n",
    "            print \"Windows selected\"\n",
    "        elif os == '2':\n",
    "            print \"Linux selected\"\n",
    "        elif os==\"3\":\n",
    "            print \"Mac selected\"\n",
    "    else:\n",
    "        print \"Invalid option . Terminating the loop\"\n",
    "        break\n",
    "   \n",
    "    print \"other staements in program\"\n",
    "    print \"program ended\""
   ]
  },
  {
   "cell_type": "code",
   "execution_count": 2,
   "metadata": {
    "collapsed": false
   },
   "outputs": [
    {
     "data": {
      "text/plain": [
       "True"
      ]
     },
     "execution_count": 2,
     "metadata": {},
     "output_type": "execute_result"
    }
   ],
   "source": [
    "'-1'<='0'"
   ]
  },
  {
   "cell_type": "code",
   "execution_count": 3,
   "metadata": {
    "collapsed": false
   },
   "outputs": [
    {
     "data": {
      "text/plain": [
       "True"
      ]
     },
     "execution_count": 3,
     "metadata": {},
     "output_type": "execute_result"
    }
   ],
   "source": [
    "\"python\">\"java\""
   ]
  },
  {
   "cell_type": "code",
   "execution_count": 4,
   "metadata": {
    "collapsed": false
   },
   "outputs": [
    {
     "data": {
      "text/plain": [
       "False"
      ]
     },
     "execution_count": 4,
     "metadata": {},
     "output_type": "execute_result"
    }
   ],
   "source": [
    "'a'>'b'"
   ]
  },
  {
   "cell_type": "code",
   "execution_count": 5,
   "metadata": {
    "collapsed": false
   },
   "outputs": [
    {
     "data": {
      "text/plain": [
       "False"
      ]
     },
     "execution_count": 5,
     "metadata": {},
     "output_type": "execute_result"
    }
   ],
   "source": [
    "ord('a')>ord('b')"
   ]
  },
  {
   "cell_type": "code",
   "execution_count": 6,
   "metadata": {
    "collapsed": false
   },
   "outputs": [
    {
     "data": {
      "text/plain": [
       "97"
      ]
     },
     "execution_count": 6,
     "metadata": {},
     "output_type": "execute_result"
    }
   ],
   "source": [
    "ord('a')"
   ]
  },
  {
   "cell_type": "code",
   "execution_count": 7,
   "metadata": {
    "collapsed": false
   },
   "outputs": [
    {
     "data": {
      "text/plain": [
       "48"
      ]
     },
     "execution_count": 7,
     "metadata": {},
     "output_type": "execute_result"
    }
   ],
   "source": [
    "ord('0')"
   ]
  },
  {
   "cell_type": "code",
   "execution_count": 8,
   "metadata": {
    "collapsed": false
   },
   "outputs": [
    {
     "ename": "TypeError",
     "evalue": "ord() expected a character, but string of length 2 found",
     "output_type": "error",
     "traceback": [
      "\u001b[1;31m---------------------------------------------------------------------------\u001b[0m",
      "\u001b[1;31mTypeError\u001b[0m                                 Traceback (most recent call last)",
      "\u001b[1;32m<ipython-input-8-7be2c9dbc770>\u001b[0m in \u001b[0;36m<module>\u001b[1;34m()\u001b[0m\n\u001b[1;32m----> 1\u001b[1;33m \u001b[0mord\u001b[0m\u001b[1;33m(\u001b[0m\u001b[1;34m'-1'\u001b[0m\u001b[1;33m)\u001b[0m\u001b[1;33m\u001b[0m\u001b[0m\n\u001b[0m",
      "\u001b[1;31mTypeError\u001b[0m: ord() expected a character, but string of length 2 found"
     ]
    }
   ],
   "source": [
    "ord('-1')"
   ]
  },
  {
   "cell_type": "code",
   "execution_count": 10,
   "metadata": {
    "collapsed": false
   },
   "outputs": [
    {
     "data": {
      "text/plain": [
       "False"
      ]
     },
     "execution_count": 10,
     "metadata": {},
     "output_type": "execute_result"
    }
   ],
   "source": [
    "'1000'>'4'"
   ]
  },
  {
   "cell_type": "code",
   "execution_count": 11,
   "metadata": {
    "collapsed": false
   },
   "outputs": [
    {
     "data": {
      "text/plain": [
       "True"
      ]
     },
     "execution_count": 11,
     "metadata": {},
     "output_type": "execute_result"
    }
   ],
   "source": [
    "'1000'<'4'"
   ]
  },
  {
   "cell_type": "code",
   "execution_count": 12,
   "metadata": {
    "collapsed": false
   },
   "outputs": [
    {
     "ename": "TypeError",
     "evalue": "ord() expected a character, but string of length 4 found",
     "output_type": "error",
     "traceback": [
      "\u001b[1;31m---------------------------------------------------------------------------\u001b[0m",
      "\u001b[1;31mTypeError\u001b[0m                                 Traceback (most recent call last)",
      "\u001b[1;32m<ipython-input-12-d5c909f91fec>\u001b[0m in \u001b[0;36m<module>\u001b[1;34m()\u001b[0m\n\u001b[1;32m----> 1\u001b[1;33m \u001b[0mord\u001b[0m\u001b[1;33m(\u001b[0m\u001b[1;34m'1000'\u001b[0m\u001b[1;33m)\u001b[0m\u001b[1;33m\u001b[0m\u001b[0m\n\u001b[0m",
      "\u001b[1;31mTypeError\u001b[0m: ord() expected a character, but string of length 4 found"
     ]
    }
   ],
   "source": [
    "ord('1000')"
   ]
  },
  {
   "cell_type": "code",
   "execution_count": null,
   "metadata": {
    "collapsed": true
   },
   "outputs": [],
   "source": []
  }
 ],
 "metadata": {
  "kernelspec": {
   "display_name": "Python 2",
   "language": "python",
   "name": "python2"
  },
  "language_info": {
   "codemirror_mode": {
    "name": "ipython",
    "version": 2
   },
   "file_extension": ".py",
   "mimetype": "text/x-python",
   "name": "python",
   "nbconvert_exporter": "python",
   "pygments_lexer": "ipython2",
   "version": "2.7.11"
  }
 },
 "nbformat": 4,
 "nbformat_minor": 0
}
