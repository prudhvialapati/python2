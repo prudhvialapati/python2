{
 "cells": [
  {
   "cell_type": "code",
   "execution_count": null,
   "metadata": {
    "collapsed": false
   },
   "outputs": [
    {
     "name": "stdout",
     "output_type": "stream",
     "text": [
      "Enter the value:10\n",
      "Enter the nth occurance:3\n",
      "5\n"
     ]
    }
   ],
   "source": [
    "#### Find out the nth occurance index in a list or string\n",
    "while 1:\n",
    "    l=['10','20','30','10','20','10','40','50','30','40','60','70','10']\n",
    "    temp=0\n",
    "    t1=-1\n",
    "    element_find=raw_input(\"Enter the value:\")\n",
    "    occurance_number=raw_input(\"Enter the nth occurance:\")\n",
    "    occurance_number=int(occurance_number)\n",
    "    exlement_count = l.count(element_find)\n",
    "    if occurance_number<=exlement_count:\n",
    "        for i in l:\n",
    "            t1=t1+1\n",
    "            if i == element_find:\n",
    "                temp = temp+1\n",
    "                if temp == occurance_number:\n",
    "                        print t1\n",
    "                        break\n",
    "    else:\n",
    "        print \"Enter the valid occurance\""
   ]
  },
  {
   "cell_type": "code",
   "execution_count": null,
   "metadata": {
    "collapsed": true
   },
   "outputs": [],
   "source": [
    "l=[10,20,30,40,10,20,30,10,40]\n",
    "element_find=raw_input(\"Enter the value:\")\n",
    "occurance_number=raw_input(\"Enter the nth occurance:\")\n",
    "occurance_number=int(occurance_number)\n",
    "for i in range(occurance_number):\n",
    "    print  l[l.index(element_find):]\n",
    "    \n",
    "    "
   ]
  },
  {
   "cell_type": "code",
   "execution_count": null,
   "metadata": {
    "collapsed": true
   },
   "outputs": [],
   "source": []
  }
 ],
 "metadata": {
  "kernelspec": {
   "display_name": "Python 2",
   "language": "python",
   "name": "python2"
  },
  "language_info": {
   "codemirror_mode": {
    "name": "ipython",
    "version": 2
   },
   "file_extension": ".py",
   "mimetype": "text/x-python",
   "name": "python",
   "nbconvert_exporter": "python",
   "pygments_lexer": "ipython2",
   "version": "2.7.11"
  }
 },
 "nbformat": 4,
 "nbformat_minor": 0
}
